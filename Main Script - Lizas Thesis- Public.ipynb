{
 "cells": [
  {
   "cell_type": "markdown",
   "id": "bibliographic-criticism",
   "metadata": {},
   "source": [
    "This code is the main script of Elizabeth Soskin's Thesis.\n",
    "Research topic: Facial expression patterns analysis for the identification of autism in children during child evaluation\n",
    "\n",
    "for questions please contact: lizaokop@post.bgu.ac.il"
   ]
  },
  {
   "cell_type": "markdown",
   "id": "abstract-basin",
   "metadata": {},
   "source": [
    "# Needed packages"
   ]
  },
  {
   "cell_type": "code",
   "execution_count": 1,
   "id": "vietnamese-pencil",
   "metadata": {},
   "outputs": [],
   "source": [
    "import pandas as pd\n",
    "import numpy as np\n",
    "import os\n",
    "import glob\n",
    "import datetime\n",
    "from scipy.interpolate import interp1d"
   ]
  },
  {
   "cell_type": "markdown",
   "id": "interested-northeast",
   "metadata": {},
   "source": [
    "# Paths - Data Location & Outputs"
   ]
  },
  {
   "cell_type": "markdown",
   "id": "placed-richmond",
   "metadata": {},
   "source": [
    "### Main data folder with all txts from affectivas output"
   ]
  },
  {
   "cell_type": "code",
   "execution_count": 2,
   "id": "included-horizon",
   "metadata": {},
   "outputs": [],
   "source": [
    "# Where txt data files output from Affectiva stored\n",
    "directory = r\"C:\\Users\\liza\\txt_data\""
   ]
  },
  {
   "cell_type": "markdown",
   "id": "relative-weapon",
   "metadata": {},
   "source": [
    "### Here all outputs will be saved:"
   ]
  },
  {
   "cell_type": "code",
   "execution_count": 3,
   "id": "useful-mustang",
   "metadata": {},
   "outputs": [],
   "source": [
    "# Where output will be saved\n",
    "Output_directory = r\"C:\\Users\\liza\\Final Outputs\""
   ]
  },
  {
   "cell_type": "markdown",
   "id": "protected-carol",
   "metadata": {},
   "source": [
    "## Diagnosis file: (including ID and diagnosis group)"
   ]
  },
  {
   "cell_type": "code",
   "execution_count": 4,
   "id": "therapeutic-fireplace",
   "metadata": {},
   "outputs": [],
   "source": [
    "# main list with all ID's and diagnosis\n",
    "diagnosis = r\"C:\\Users\\liza\\Diagnosis.xlsx\""
   ]
  },
  {
   "cell_type": "markdown",
   "id": "numerous-progressive",
   "metadata": {},
   "source": [
    "### Creating the main file"
   ]
  },
  {
   "cell_type": "code",
   "execution_count": 5,
   "id": "underlying-barbados",
   "metadata": {},
   "outputs": [],
   "source": [
    "df_main = pd.read_excel(diagnosis)"
   ]
  },
  {
   "cell_type": "code",
   "execution_count": 6,
   "id": "scientific-lyric",
   "metadata": {},
   "outputs": [],
   "source": [
    "df_main = df_main[ ['ID'] + ['Group']]"
   ]
  },
  {
   "cell_type": "code",
   "execution_count": 7,
   "id": "western-arizona",
   "metadata": {},
   "outputs": [],
   "source": [
    "df_main['ID'] = pd.to_numeric(df_main['ID'])"
   ]
  },
  {
   "cell_type": "code",
   "execution_count": 8,
   "id": "northern-badge",
   "metadata": {},
   "outputs": [
    {
     "data": {
      "text/html": [
       "<div>\n",
       "<style scoped>\n",
       "    .dataframe tbody tr th:only-of-type {\n",
       "        vertical-align: middle;\n",
       "    }\n",
       "\n",
       "    .dataframe tbody tr th {\n",
       "        vertical-align: top;\n",
       "    }\n",
       "\n",
       "    .dataframe thead th {\n",
       "        text-align: right;\n",
       "    }\n",
       "</style>\n",
       "<table border=\"1\" class=\"dataframe\">\n",
       "  <thead>\n",
       "    <tr style=\"text-align: right;\">\n",
       "      <th></th>\n",
       "      <th>ID</th>\n",
       "      <th>Group</th>\n",
       "    </tr>\n",
       "  </thead>\n",
       "  <tbody>\n",
       "    <tr>\n",
       "      <th>0</th>\n",
       "      <td>673249918</td>\n",
       "      <td>0</td>\n",
       "    </tr>\n",
       "    <tr>\n",
       "      <th>1</th>\n",
       "      <td>1021408222</td>\n",
       "      <td>0</td>\n",
       "    </tr>\n",
       "    <tr>\n",
       "      <th>2</th>\n",
       "      <td>1019778562</td>\n",
       "      <td>0</td>\n",
       "    </tr>\n",
       "    <tr>\n",
       "      <th>3</th>\n",
       "      <td>1021093597</td>\n",
       "      <td>0</td>\n",
       "    </tr>\n",
       "    <tr>\n",
       "      <th>4</th>\n",
       "      <td>669779629</td>\n",
       "      <td>0</td>\n",
       "    </tr>\n",
       "  </tbody>\n",
       "</table>\n",
       "</div>"
      ],
      "text/plain": [
       "           ID  Group\n",
       "0   673249918      0\n",
       "1  1021408222      0\n",
       "2  1019778562      0\n",
       "3  1021093597      0\n",
       "4   669779629      0"
      ]
     },
     "execution_count": 8,
     "metadata": {},
     "output_type": "execute_result"
    }
   ],
   "source": [
    "df_main.head()"
   ]
  },
  {
   "cell_type": "markdown",
   "id": "logical-working",
   "metadata": {},
   "source": [
    "### Affectivas columns as an output"
   ]
  },
  {
   "cell_type": "code",
   "execution_count": 9,
   "id": "amazing-replica",
   "metadata": {},
   "outputs": [],
   "source": [
    "info = ['Name', 'FrameIndex']\n",
    "Feelings = ['Smile', 'Anger', 'Sadness', 'Disgust', 'Surprise', 'Fear']\n",
    "AUs = ['Brow Furrow', 'Brow Raise', 'Lip Corner Depressor', 'InnerBrowRaise', 'EyeClosure', 'NoseWrinkle', 'UpperLipRaise', 'LipSuck', 'LipPress', 'MouthOpen', 'ChinRaise', 'Smirk', 'LipPucker', 'Cheek Raise', 'Dimpler', 'Eye Widen', 'Lid Tighten', 'Lip Stretch', 'Jaw Drop']\n",
    "Head = ['Pitch', 'Yaw', 'Roll']\n",
    "Rest = ['Engagement', 'Valence', 'Attention', 'Interocular Distance', 'Joy', 'Contempt']"
   ]
  },
  {
   "cell_type": "code",
   "execution_count": 10,
   "id": "compound-running",
   "metadata": {},
   "outputs": [
    {
     "data": {
      "text/plain": [
       "28"
      ]
     },
     "execution_count": 10,
     "metadata": {},
     "output_type": "execute_result"
    }
   ],
   "source": [
    "len(Feelings) + len(AUs) + len(Head)"
   ]
  },
  {
   "cell_type": "markdown",
   "id": "divided-mustang",
   "metadata": {},
   "source": [
    "# Preprocess"
   ]
  },
  {
   "cell_type": "markdown",
   "id": "foster-liberal",
   "metadata": {},
   "source": [
    "## Loading the data"
   ]
  },
  {
   "cell_type": "markdown",
   "id": "inclusive-suspension",
   "metadata": {},
   "source": [
    "### Choose wanted columns"
   ]
  },
  {
   "cell_type": "code",
   "execution_count": 11,
   "id": "upper-northwest",
   "metadata": {},
   "outputs": [],
   "source": [
    "selected_cols = info + Feelings + AUs + Head"
   ]
  },
  {
   "cell_type": "markdown",
   "id": "composite-horizon",
   "metadata": {},
   "source": [
    "### Combine files from folder"
   ]
  },
  {
   "cell_type": "code",
   "execution_count": 12,
   "id": "special-civilization",
   "metadata": {},
   "outputs": [],
   "source": [
    "def To_DF(path):\n",
    "    df = pd.read_csv(path, skiprows=[0, 1, 2, 3, 4], delimiter=\"\\t\", usecols=selected_cols)\n",
    "    return df\n",
    "\n",
    "df_all_data = []\n",
    "\n",
    "for filename in os.listdir(directory):\n",
    "    if filename.endswith(\".txt\"): \n",
    "        new_df = To_DF(os.path.join(directory, filename))\n",
    "        df_all_data.append(new_df)\n",
    "        #print(os.path.join(directory, filename))\n",
    "    \n",
    "df_Original = pd.concat(df_all_data, ignore_index=True, sort=True)"
   ]
  },
  {
   "cell_type": "markdown",
   "id": "comparable-sullivan",
   "metadata": {},
   "source": [
    "### Change name to ID and delete the name column"
   ]
  },
  {
   "cell_type": "code",
   "execution_count": 13,
   "id": "european-antenna",
   "metadata": {},
   "outputs": [],
   "source": [
    "df_Original['ID'] = df_Original['Name'].str.split('_').str[0]\n",
    "del df_Original[\"Name\"]"
   ]
  },
  {
   "cell_type": "markdown",
   "id": "alien-foundation",
   "metadata": {},
   "source": [
    "### Re-order the columns in the df"
   ]
  },
  {
   "cell_type": "code",
   "execution_count": 14,
   "id": "impaired-diagram",
   "metadata": {},
   "outputs": [],
   "source": [
    "df_Original = df_Original[ ['ID'] + ['FrameIndex']+ [ col for col in df_Original.columns if (col != 'ID' and col != 'FrameIndex') ] ]"
   ]
  },
  {
   "cell_type": "markdown",
   "id": "worth-cricket",
   "metadata": {},
   "source": [
    "### The Number of children imported:"
   ]
  },
  {
   "cell_type": "code",
   "execution_count": 15,
   "id": "naval-boring",
   "metadata": {},
   "outputs": [
    {
     "data": {
      "text/plain": [
       "44"
      ]
     },
     "execution_count": 15,
     "metadata": {},
     "output_type": "execute_result"
    }
   ],
   "source": [
    "df_Original[\"ID\"].nunique()"
   ]
  },
  {
   "cell_type": "markdown",
   "id": "distinct-uncle",
   "metadata": {},
   "source": [
    "### Size of the df:"
   ]
  },
  {
   "cell_type": "code",
   "execution_count": 16,
   "id": "outstanding-accommodation",
   "metadata": {},
   "outputs": [
    {
     "name": "stdout",
     "output_type": "stream",
     "text": [
      "Total frames:  4090779\n",
      "Total columns:  30\n"
     ]
    }
   ],
   "source": [
    "print(\"Total frames: \", df_Original.shape[0])\n",
    "print(\"Total columns: \", df_Original.shape[1])"
   ]
  },
  {
   "cell_type": "markdown",
   "id": "developing-exhibit",
   "metadata": {},
   "source": [
    "## Running interpolation for future feature extraction"
   ]
  },
  {
   "cell_type": "code",
   "execution_count": 17,
   "id": "photographic-bishop",
   "metadata": {},
   "outputs": [],
   "source": [
    "df = df_Original.copy()"
   ]
  },
  {
   "cell_type": "code",
   "execution_count": 18,
   "id": "meaning-singapore",
   "metadata": {},
   "outputs": [
    {
     "data": {
      "text/plain": [
       "\"\\nin the original interpolation code, there was a media time, but we don't really need it, \\nin this section, I'm not even importing it from the main data,\\nI didn't want to change all the following code because it considers the columns numbers,\\nso I'm just adding an empty column, we don't use it so it's not a big deal.\\n\""
      ]
     },
     "execution_count": 18,
     "metadata": {},
     "output_type": "execute_result"
    }
   ],
   "source": [
    "df['MediaTime'] = \"\"\n",
    "'''\n",
    "in the original interpolation code, there was a media time, but we don't really need it, \n",
    "in this section, I'm not even importing it from the main data,\n",
    "I didn't want to change all the following code because it considers the columns numbers,\n",
    "so I'm just adding an empty column, we don't use it so it's not a big deal.\n",
    "'''"
   ]
  },
  {
   "cell_type": "code",
   "execution_count": 19,
   "id": "decreased-experience",
   "metadata": {},
   "outputs": [],
   "source": [
    "df = df[ ['ID'] +['MediaTime'] +['FrameIndex'] +['Anger'] +['Disgust'] +['Fear'] +['Sadness'] +['Smile'] +['Surprise']]"
   ]
  },
  {
   "cell_type": "code",
   "execution_count": 20,
   "id": "assigned-associate",
   "metadata": {},
   "outputs": [],
   "source": [
    "df.fillna(0, inplace=True)"
   ]
  },
  {
   "cell_type": "code",
   "execution_count": 21,
   "id": "incident-hunter",
   "metadata": {},
   "outputs": [],
   "source": [
    "df.to_csv(\"input_intr.csv\")"
   ]
  },
  {
   "cell_type": "code",
   "execution_count": 22,
   "id": "hidden-variety",
   "metadata": {},
   "outputs": [
    {
     "data": {
      "text/html": [
       "<div>\n",
       "<style scoped>\n",
       "    .dataframe tbody tr th:only-of-type {\n",
       "        vertical-align: middle;\n",
       "    }\n",
       "\n",
       "    .dataframe tbody tr th {\n",
       "        vertical-align: top;\n",
       "    }\n",
       "\n",
       "    .dataframe thead th {\n",
       "        text-align: right;\n",
       "    }\n",
       "</style>\n",
       "<table border=\"1\" class=\"dataframe\">\n",
       "  <thead>\n",
       "    <tr style=\"text-align: right;\">\n",
       "      <th></th>\n",
       "      <th>ID</th>\n",
       "      <th>MediaTime</th>\n",
       "      <th>FrameIndex</th>\n",
       "      <th>Anger</th>\n",
       "      <th>Disgust</th>\n",
       "      <th>Fear</th>\n",
       "      <th>Sadness</th>\n",
       "      <th>Smile</th>\n",
       "      <th>Surprise</th>\n",
       "    </tr>\n",
       "  </thead>\n",
       "  <tbody>\n",
       "    <tr>\n",
       "      <th>0</th>\n",
       "      <td>10212252882</td>\n",
       "      <td></td>\n",
       "      <td>0</td>\n",
       "      <td>0.0</td>\n",
       "      <td>0.0</td>\n",
       "      <td>0.0</td>\n",
       "      <td>0.0</td>\n",
       "      <td>0.0</td>\n",
       "      <td>0.0</td>\n",
       "    </tr>\n",
       "    <tr>\n",
       "      <th>1</th>\n",
       "      <td>10212252882</td>\n",
       "      <td></td>\n",
       "      <td>1</td>\n",
       "      <td>0.0</td>\n",
       "      <td>0.0</td>\n",
       "      <td>0.0</td>\n",
       "      <td>0.0</td>\n",
       "      <td>0.0</td>\n",
       "      <td>0.0</td>\n",
       "    </tr>\n",
       "    <tr>\n",
       "      <th>2</th>\n",
       "      <td>10212252882</td>\n",
       "      <td></td>\n",
       "      <td>2</td>\n",
       "      <td>0.0</td>\n",
       "      <td>0.0</td>\n",
       "      <td>0.0</td>\n",
       "      <td>0.0</td>\n",
       "      <td>0.0</td>\n",
       "      <td>0.0</td>\n",
       "    </tr>\n",
       "    <tr>\n",
       "      <th>3</th>\n",
       "      <td>10212252882</td>\n",
       "      <td></td>\n",
       "      <td>3</td>\n",
       "      <td>0.0</td>\n",
       "      <td>0.0</td>\n",
       "      <td>0.0</td>\n",
       "      <td>0.0</td>\n",
       "      <td>0.0</td>\n",
       "      <td>0.0</td>\n",
       "    </tr>\n",
       "    <tr>\n",
       "      <th>4</th>\n",
       "      <td>10212252882</td>\n",
       "      <td></td>\n",
       "      <td>4</td>\n",
       "      <td>0.0</td>\n",
       "      <td>0.0</td>\n",
       "      <td>0.0</td>\n",
       "      <td>0.0</td>\n",
       "      <td>0.0</td>\n",
       "      <td>0.0</td>\n",
       "    </tr>\n",
       "    <tr>\n",
       "      <th>...</th>\n",
       "      <td>...</td>\n",
       "      <td>...</td>\n",
       "      <td>...</td>\n",
       "      <td>...</td>\n",
       "      <td>...</td>\n",
       "      <td>...</td>\n",
       "      <td>...</td>\n",
       "      <td>...</td>\n",
       "      <td>...</td>\n",
       "    </tr>\n",
       "    <tr>\n",
       "      <th>4090774</th>\n",
       "      <td>1015608034</td>\n",
       "      <td></td>\n",
       "      <td>91654</td>\n",
       "      <td>0.0</td>\n",
       "      <td>0.0</td>\n",
       "      <td>0.0</td>\n",
       "      <td>0.0</td>\n",
       "      <td>0.0</td>\n",
       "      <td>0.0</td>\n",
       "    </tr>\n",
       "    <tr>\n",
       "      <th>4090775</th>\n",
       "      <td>1015608034</td>\n",
       "      <td></td>\n",
       "      <td>91655</td>\n",
       "      <td>0.0</td>\n",
       "      <td>0.0</td>\n",
       "      <td>0.0</td>\n",
       "      <td>0.0</td>\n",
       "      <td>0.0</td>\n",
       "      <td>0.0</td>\n",
       "    </tr>\n",
       "    <tr>\n",
       "      <th>4090776</th>\n",
       "      <td>1015608034</td>\n",
       "      <td></td>\n",
       "      <td>91656</td>\n",
       "      <td>0.0</td>\n",
       "      <td>0.0</td>\n",
       "      <td>0.0</td>\n",
       "      <td>0.0</td>\n",
       "      <td>0.0</td>\n",
       "      <td>0.0</td>\n",
       "    </tr>\n",
       "    <tr>\n",
       "      <th>4090777</th>\n",
       "      <td>1015608034</td>\n",
       "      <td></td>\n",
       "      <td>91657</td>\n",
       "      <td>0.0</td>\n",
       "      <td>0.0</td>\n",
       "      <td>0.0</td>\n",
       "      <td>0.0</td>\n",
       "      <td>0.0</td>\n",
       "      <td>0.0</td>\n",
       "    </tr>\n",
       "    <tr>\n",
       "      <th>4090778</th>\n",
       "      <td>1015608034</td>\n",
       "      <td></td>\n",
       "      <td>91658</td>\n",
       "      <td>0.0</td>\n",
       "      <td>0.0</td>\n",
       "      <td>0.0</td>\n",
       "      <td>0.0</td>\n",
       "      <td>0.0</td>\n",
       "      <td>0.0</td>\n",
       "    </tr>\n",
       "  </tbody>\n",
       "</table>\n",
       "<p>4090779 rows × 9 columns</p>\n",
       "</div>"
      ],
      "text/plain": [
       "                  ID MediaTime  FrameIndex  Anger  Disgust  Fear  Sadness  \\\n",
       "0        10212252882                     0    0.0      0.0   0.0      0.0   \n",
       "1        10212252882                     1    0.0      0.0   0.0      0.0   \n",
       "2        10212252882                     2    0.0      0.0   0.0      0.0   \n",
       "3        10212252882                     3    0.0      0.0   0.0      0.0   \n",
       "4        10212252882                     4    0.0      0.0   0.0      0.0   \n",
       "...              ...       ...         ...    ...      ...   ...      ...   \n",
       "4090774   1015608034                 91654    0.0      0.0   0.0      0.0   \n",
       "4090775   1015608034                 91655    0.0      0.0   0.0      0.0   \n",
       "4090776   1015608034                 91656    0.0      0.0   0.0      0.0   \n",
       "4090777   1015608034                 91657    0.0      0.0   0.0      0.0   \n",
       "4090778   1015608034                 91658    0.0      0.0   0.0      0.0   \n",
       "\n",
       "         Smile  Surprise  \n",
       "0          0.0       0.0  \n",
       "1          0.0       0.0  \n",
       "2          0.0       0.0  \n",
       "3          0.0       0.0  \n",
       "4          0.0       0.0  \n",
       "...        ...       ...  \n",
       "4090774    0.0       0.0  \n",
       "4090775    0.0       0.0  \n",
       "4090776    0.0       0.0  \n",
       "4090777    0.0       0.0  \n",
       "4090778    0.0       0.0  \n",
       "\n",
       "[4090779 rows x 9 columns]"
      ]
     },
     "execution_count": 22,
     "metadata": {},
     "output_type": "execute_result"
    }
   ],
   "source": [
    "df"
   ]
  },
  {
   "cell_type": "markdown",
   "id": "convertible-table",
   "metadata": {},
   "source": [
    "### Interpulation:"
   ]
  },
  {
   "cell_type": "code",
   "execution_count": 23,
   "id": "copyrighted-bishop",
   "metadata": {},
   "outputs": [
    {
     "name": "stdout",
     "output_type": "stream",
     "text": [
      "--\n"
     ]
    }
   ],
   "source": [
    "look_for_sequence_of = 5              # min of valid frames before using interp\n",
    "max_hole_size = 10                    # max of missing frames allowd\n",
    "Counter = 0\n",
    "\n",
    "f_input = open(\"input_intr.csv\", \"r\") # input file\n",
    "first_line = f_input.readline()      \n",
    "\n",
    "print(\"--\")\n",
    "whole_file = []"
   ]
  },
  {
   "cell_type": "code",
   "execution_count": 24,
   "id": "norwegian-hearing",
   "metadata": {},
   "outputs": [],
   "source": [
    "# csv to list\n",
    "for line in f_input:\n",
    "    l = line.split(',')\n",
    "    whole_file.append(l)"
   ]
  },
  {
   "cell_type": "code",
   "execution_count": 25,
   "id": "blank-upgrade",
   "metadata": {},
   "outputs": [],
   "source": [
    "# list of all missing frames (0.0)\n",
    "def create_list_of_holes():\n",
    "    mid_sequence = False\n",
    "    current_index = 0\n",
    "    sequence_start_index = 0\n",
    "    sequence_end_index = 0\n",
    "\n",
    "    holes = []\n",
    "\n",
    "    # create list of all the holes\n",
    "    for li in whole_file:\n",
    "        current_index = int(li[0])      # index is in the first coulumn\n",
    "\n",
    "        # li[4] = \"Angry\" position\n",
    "        if li[4] == '0.0': # searching for the zeros\n",
    "            if not mid_sequence:\n",
    "                mid_sequence = True\n",
    "                sequence_start_index = current_index\n",
    "        else:\n",
    "            if mid_sequence:\n",
    "                mid_sequence = False\n",
    "                sequence_end_index = current_index\n",
    "                holes.append([sequence_start_index, sequence_end_index - 1])\n",
    "\n",
    "    return holes"
   ]
  },
  {
   "cell_type": "code",
   "execution_count": 26,
   "id": "graphic-excerpt",
   "metadata": {},
   "outputs": [],
   "source": [
    "# intrp \n",
    "def fix_hole(start, stop, col):\n",
    "    global Counter\n",
    "    #print(f\"fixing hole in {start, stop}\")\n",
    "    lowest_index_with_data = start - 1\n",
    "    \n",
    "    #    search for segment frame\n",
    "    while whole_file[lowest_index_with_data][4] != '0.0':\n",
    "        lowest_index_with_data -= 1\n",
    "\n",
    "    lowest_index_with_data += 1\n",
    "    highest_index_with_data = stop + 1\n",
    "    while whole_file[highest_index_with_data][4] != '0.0':\n",
    "        highest_index_with_data += 1\n",
    "\n",
    "    highest_index_with_data -= 1\n",
    "    #     --\n",
    "    \n",
    "    # append valid values of the segment\n",
    "    x = np.array(range(lowest_index_with_data, start))\n",
    "    x = np.append(x, range(stop+1, highest_index_with_data+1))\n",
    "    \n",
    "    # empty list in the size of x\n",
    "    y = np.zeros_like(x, dtype=float)\n",
    "\n",
    "    # fill y from above with original data\n",
    "    for index, val in enumerate(x):\n",
    "        y[index] = whole_file[val][col]\n",
    "\n",
    "    \n",
    "    #f = interp1d(x, y)                 # linear interp\n",
    "    f2 = interp1d(x, y, kind='cubic')\n",
    "\n",
    "    xnew = np.array(range(lowest_index_with_data, highest_index_with_data + 1)) # array in the original size including zeros\n",
    "\n",
    "    offset = start - lowest_index_with_data # where am I in the original file\n",
    "    \n",
    "    \n",
    "    for i in range(stop+1 - start): # number of zeros\n",
    "        data_to_write = str(f2(xnew)[offset+i])\n",
    "        if col == 9:\n",
    "            data_to_write += \"\\n\"\n",
    "            \n",
    "        whole_file[start+i][col] = data_to_write\n",
    "    \n",
    "    Counter +=1"
   ]
  },
  {
   "cell_type": "code",
   "execution_count": 27,
   "id": "interesting-train",
   "metadata": {},
   "outputs": [],
   "source": [
    "# validate that we have 'look_for_sequence_of' valid franes before zeros (5 frames)\n",
    "def check_for_predecessors(index, file):\n",
    "    test_passed = True\n",
    "    \n",
    "    for i in range(look_for_sequence_of):\n",
    "        if file[index-i-1][4] == '0.0':\n",
    "            test_passed = False\n",
    "    return test_passed"
   ]
  },
  {
   "cell_type": "code",
   "execution_count": 28,
   "id": "fleet-invitation",
   "metadata": {},
   "outputs": [
    {
     "name": "stdout",
     "output_type": "stream",
     "text": [
      "the length of this list is = 51597\n"
     ]
    }
   ],
   "source": [
    "# --------------------------------------------------- starting here:\n",
    "list_of_holes = create_list_of_holes()    \n",
    "#print(f\"list of current holes = {list_of_holes}\")\n",
    "print(f\"the length of this list is = {len(list_of_holes)}\")"
   ]
  },
  {
   "cell_type": "code",
   "execution_count": 29,
   "id": "extraordinary-blend",
   "metadata": {},
   "outputs": [],
   "source": [
    "# check the holes - if it needs fixing\n",
    "# list of holes looks like this : [start, end], [start, end], [start, end]....\n",
    "# hole[0] = start index     hole[1] = end index\n",
    "for hole in list_of_holes:\n",
    "    if hole[0] - look_for_sequence_of < 0:  #deal with negetive indexes- if first seq is nulls - ignore it\n",
    "        continue\n",
    "    if hole[1] - hole[0] + 1 > max_hole_size:   # if hole is too big, skip\n",
    "        continue\n",
    "\n",
    "    x = check_for_predecessors(hole[0], whole_file) # validate that prev frames contain values\n",
    "    if x: # test passed\n",
    "        for col in range(4,10): # fix all emotions\n",
    "            fix_hole(hole[0], hole[1], col)"
   ]
  },
  {
   "cell_type": "code",
   "execution_count": 30,
   "id": "retained-intro",
   "metadata": {},
   "outputs": [],
   "source": [
    "# Fix if interpulation completed values over 100 or less then 0\n",
    "for line in whole_file:\n",
    "    for i in range(4, 10):\n",
    "        if float(line[i]) > 100:\n",
    "            line[i] = '100'\n",
    "        if float(line[i]) < 0:\n",
    "            line[i] = '0'\n",
    "        \n",
    "        if i == 9:\n",
    "            if '\\n' not in line[i]:\n",
    "                line[i] += '\\n'"
   ]
  },
  {
   "cell_type": "code",
   "execution_count": 31,
   "id": "environmental-freight",
   "metadata": {},
   "outputs": [
    {
     "name": "stdout",
     "output_type": "stream",
     "text": [
      "121590\n"
     ]
    }
   ],
   "source": [
    "print(Counter)\n",
    "with open('inter_fixed_file.csv', 'w') as f:\n",
    "    f.write(first_line[:])\n",
    "    for line in whole_file:\n",
    "        f.write(','.join(line[:]))"
   ]
  },
  {
   "cell_type": "code",
   "execution_count": 32,
   "id": "entitled-probe",
   "metadata": {},
   "outputs": [],
   "source": [
    "Validation_After_interpulation = len(whole_file)"
   ]
  },
  {
   "cell_type": "markdown",
   "id": "fundamental-kelly",
   "metadata": {},
   "source": [
    "# Delete short segments:"
   ]
  },
  {
   "cell_type": "code",
   "execution_count": 33,
   "id": "dominant-excuse",
   "metadata": {},
   "outputs": [],
   "source": [
    "Counter = 0\n",
    "length_to_del = 5\n",
    "\n",
    "f_input = open(\"inter_fixed_file.csv\", \"r\") # input file\n",
    "first_line = f_input.readline()      \n",
    "\n",
    "#print(\"--\")\n",
    "whole_file = []"
   ]
  },
  {
   "cell_type": "code",
   "execution_count": 34,
   "id": "forward-constant",
   "metadata": {},
   "outputs": [],
   "source": [
    "# csv to list\n",
    "#line_length_array = []\n",
    "\n",
    "for line in f_input:\n",
    "    l = line.split(',')\n",
    "    #line_length_array.append(len(l))\n",
    "    whole_file.append(l)\n",
    "\n",
    "#print(max(line_length_array))"
   ]
  },
  {
   "cell_type": "code",
   "execution_count": 35,
   "id": "extensive-neighborhood",
   "metadata": {},
   "outputs": [
    {
     "data": {
      "text/plain": [
       "4090779"
      ]
     },
     "execution_count": 35,
     "metadata": {},
     "output_type": "execute_result"
    }
   ],
   "source": [
    "len(whole_file)"
   ]
  },
  {
   "cell_type": "code",
   "execution_count": 36,
   "id": "chronic-blanket",
   "metadata": {},
   "outputs": [],
   "source": [
    "# list of all missing frames (0.0)\n",
    "def create_list_of_segmnts():\n",
    "    mid_sequence = False\n",
    "    current_index = 0\n",
    "    sequence_start_index = 0\n",
    "    sequence_end_index = 0\n",
    "\n",
    "    segments = []\n",
    "\n",
    "    # create list of all the holes\n",
    "    for li in whole_file:\n",
    "        current_index = int(li[0])      #index is first column\n",
    "        row_sum = float(li[4]) +float(li[5]) +float(li[6]) +float(li[7]) +float(li[8]) +float(li[9])\n",
    "        # li[4] = \"Angry\" position\n",
    "        if  row_sum > 0: # searching for the values\n",
    "            if not mid_sequence:\n",
    "                mid_sequence = True\n",
    "                sequence_start_index = current_index\n",
    "        else:\n",
    "            if mid_sequence:\n",
    "                mid_sequence = False\n",
    "                sequence_end_index = current_index\n",
    "                segments.append([sequence_start_index, sequence_end_index - 1])\n",
    "\n",
    "    return segments"
   ]
  },
  {
   "cell_type": "code",
   "execution_count": 37,
   "id": "extensive-hebrew",
   "metadata": {},
   "outputs": [],
   "source": [
    "# delete short seg \n",
    "def fix_seg(start, stop, col):\n",
    "    global Counter\n",
    "    #print(f\"fixing hole in {start, stop}\")\n",
    "    \n",
    "    for i in range(stop+1 - start): # number of values to change\n",
    "        data_to_write = \"0.0\"\n",
    "        if col == 9:\n",
    "            data_to_write += \"\\n\"\n",
    "        \n",
    "        #print(\"start+i: \",start+i)\n",
    "        #print(\"col: \", col)\n",
    "        len(whole_file)\n",
    "        \n",
    "        whole_file[start+i][col] = data_to_write\n",
    "    Counter +=1\n"
   ]
  },
  {
   "cell_type": "code",
   "execution_count": 38,
   "id": "statutory-visit",
   "metadata": {},
   "outputs": [],
   "source": [
    "list_of_seg = create_list_of_segmnts()\n",
    "#print(f\"list of current Seg = {list_of_seg}\")\n",
    "#print(f\"the length of this list is = {len(list_of_seg)}\")"
   ]
  },
  {
   "cell_type": "code",
   "execution_count": 39,
   "id": "established-chancellor",
   "metadata": {},
   "outputs": [
    {
     "name": "stdout",
     "output_type": "stream",
     "text": [
      "the length of this list is = 31332\n"
     ]
    }
   ],
   "source": [
    "print(f\"the length of this list is = {len(list_of_seg)}\")\n",
    "#8906382"
   ]
  },
  {
   "cell_type": "code",
   "execution_count": 40,
   "id": "powered-venture",
   "metadata": {},
   "outputs": [],
   "source": [
    "for seg in list_of_seg:\n",
    "    if seg[1] - seg[0] +1 >= length_to_del:   # if seg is biger than 5 frames, skip\n",
    "        continue\n",
    "    else:\n",
    "        for col in range(4,10): # fix all emotions\n",
    "            fix_seg(seg[0], seg[1], col)"
   ]
  },
  {
   "cell_type": "code",
   "execution_count": 41,
   "id": "posted-employer",
   "metadata": {},
   "outputs": [
    {
     "name": "stdout",
     "output_type": "stream",
     "text": [
      "110136\n"
     ]
    }
   ],
   "source": [
    "print(Counter)\n",
    "with open('Full_Fixed_File.csv', 'w') as f:\n",
    "    f.write(first_line[:])\n",
    "    for line in whole_file:\n",
    "        f.write(','.join(line[:]))"
   ]
  },
  {
   "cell_type": "code",
   "execution_count": 42,
   "id": "graphic-prototype",
   "metadata": {},
   "outputs": [],
   "source": [
    "Validation_After_Deleting = len(whole_file)"
   ]
  },
  {
   "cell_type": "markdown",
   "id": "bound-rouge",
   "metadata": {},
   "source": [
    "### Validation:"
   ]
  },
  {
   "cell_type": "code",
   "execution_count": 43,
   "id": "express-therapy",
   "metadata": {},
   "outputs": [
    {
     "data": {
      "text/plain": [
       "0"
      ]
     },
     "execution_count": 43,
     "metadata": {},
     "output_type": "execute_result"
    }
   ],
   "source": [
    "Validation = Validation_After_interpulation - Validation_After_Deleting\n",
    "Validation\n",
    "# Zero is good. if not Zero, not good - need to check the code. "
   ]
  },
  {
   "cell_type": "markdown",
   "id": "configured-promotion",
   "metadata": {},
   "source": [
    "# "
   ]
  },
  {
   "cell_type": "markdown",
   "id": "disabled-hardwood",
   "metadata": {},
   "source": [
    "# Main - Extracting Features:"
   ]
  },
  {
   "cell_type": "code",
   "execution_count": 44,
   "id": "everyday-mandate",
   "metadata": {},
   "outputs": [],
   "source": [
    "df = df_Original.copy()"
   ]
  },
  {
   "cell_type": "markdown",
   "id": "illegal-student",
   "metadata": {},
   "source": [
    "## 1. Percent of valid frames"
   ]
  },
  {
   "cell_type": "code",
   "execution_count": 45,
   "id": "accomplished-jacksonville",
   "metadata": {},
   "outputs": [],
   "source": [
    "df = df_Original.copy()"
   ]
  },
  {
   "cell_type": "code",
   "execution_count": 46,
   "id": "sound-privacy",
   "metadata": {},
   "outputs": [],
   "source": [
    "df1 = df.groupby('ID').count()[['FrameIndex']]"
   ]
  },
  {
   "cell_type": "code",
   "execution_count": 47,
   "id": "refined-vector",
   "metadata": {},
   "outputs": [],
   "source": [
    "df = df.fillna(0)"
   ]
  },
  {
   "cell_type": "code",
   "execution_count": 48,
   "id": "greatest-stadium",
   "metadata": {},
   "outputs": [],
   "source": [
    "df['row_sum'] = df['Anger'] + df['Disgust'] + df['Fear'] + df['Sadness'] + df['Smile'] +  df['Surprise']"
   ]
  },
  {
   "cell_type": "code",
   "execution_count": 49,
   "id": "convenient-option",
   "metadata": {},
   "outputs": [],
   "source": [
    "df = df.drop(df[df.row_sum < 0.00000001].index)"
   ]
  },
  {
   "cell_type": "code",
   "execution_count": 50,
   "id": "immediate-dominican",
   "metadata": {},
   "outputs": [],
   "source": [
    "df2 = df.groupby('ID').count()[['FrameIndex']]"
   ]
  },
  {
   "cell_type": "code",
   "execution_count": 51,
   "id": "abstract-latino",
   "metadata": {},
   "outputs": [],
   "source": [
    "Result = pd.merge(df1 ,df2 , how='outer', on='ID')\n",
    "Result['Frames_Percentage'] = Result['FrameIndex_y']/Result['FrameIndex_x']\n",
    "Result = Result.rename(columns={\"FrameIndex_x\": \"Total_frames_num\", \"FrameIndex_y\": \"Valid_frames_num\"})"
   ]
  },
  {
   "cell_type": "code",
   "execution_count": 52,
   "id": "adverse-scanner",
   "metadata": {},
   "outputs": [],
   "source": [
    "Result = Result.reset_index()"
   ]
  },
  {
   "cell_type": "code",
   "execution_count": 53,
   "id": "conceptual-triangle",
   "metadata": {},
   "outputs": [],
   "source": [
    "Result['ID'] = pd.to_numeric(Result['ID'])"
   ]
  },
  {
   "cell_type": "code",
   "execution_count": 54,
   "id": "bottom-league",
   "metadata": {},
   "outputs": [],
   "source": [
    "df_main = pd.merge(df_main ,Result , how='outer', on='ID')"
   ]
  },
  {
   "cell_type": "code",
   "execution_count": 55,
   "id": "communist-pickup",
   "metadata": {},
   "outputs": [
    {
     "data": {
      "text/html": [
       "<div>\n",
       "<style scoped>\n",
       "    .dataframe tbody tr th:only-of-type {\n",
       "        vertical-align: middle;\n",
       "    }\n",
       "\n",
       "    .dataframe tbody tr th {\n",
       "        vertical-align: top;\n",
       "    }\n",
       "\n",
       "    .dataframe thead th {\n",
       "        text-align: right;\n",
       "    }\n",
       "</style>\n",
       "<table border=\"1\" class=\"dataframe\">\n",
       "  <thead>\n",
       "    <tr style=\"text-align: right;\">\n",
       "      <th></th>\n",
       "      <th>ID</th>\n",
       "      <th>Group</th>\n",
       "      <th>Total_frames_num</th>\n",
       "      <th>Valid_frames_num</th>\n",
       "      <th>Frames_Percentage</th>\n",
       "    </tr>\n",
       "  </thead>\n",
       "  <tbody>\n",
       "    <tr>\n",
       "      <th>0</th>\n",
       "      <td>673249918</td>\n",
       "      <td>0</td>\n",
       "      <td>85736</td>\n",
       "      <td>16471</td>\n",
       "      <td>0.192113</td>\n",
       "    </tr>\n",
       "    <tr>\n",
       "      <th>1</th>\n",
       "      <td>1021408222</td>\n",
       "      <td>0</td>\n",
       "      <td>90365</td>\n",
       "      <td>19580</td>\n",
       "      <td>0.216677</td>\n",
       "    </tr>\n",
       "    <tr>\n",
       "      <th>2</th>\n",
       "      <td>1019778562</td>\n",
       "      <td>0</td>\n",
       "      <td>111063</td>\n",
       "      <td>21325</td>\n",
       "      <td>0.192008</td>\n",
       "    </tr>\n",
       "    <tr>\n",
       "      <th>3</th>\n",
       "      <td>1021093597</td>\n",
       "      <td>0</td>\n",
       "      <td>82627</td>\n",
       "      <td>46000</td>\n",
       "      <td>0.556719</td>\n",
       "    </tr>\n",
       "    <tr>\n",
       "      <th>4</th>\n",
       "      <td>669779629</td>\n",
       "      <td>0</td>\n",
       "      <td>104995</td>\n",
       "      <td>24678</td>\n",
       "      <td>0.235040</td>\n",
       "    </tr>\n",
       "  </tbody>\n",
       "</table>\n",
       "</div>"
      ],
      "text/plain": [
       "           ID  Group  Total_frames_num  Valid_frames_num  Frames_Percentage\n",
       "0   673249918      0             85736             16471           0.192113\n",
       "1  1021408222      0             90365             19580           0.216677\n",
       "2  1019778562      0            111063             21325           0.192008\n",
       "3  1021093597      0             82627             46000           0.556719\n",
       "4   669779629      0            104995             24678           0.235040"
      ]
     },
     "execution_count": 55,
     "metadata": {},
     "output_type": "execute_result"
    }
   ],
   "source": [
    "df_main.head()"
   ]
  },
  {
   "cell_type": "markdown",
   "id": "oriented-unknown",
   "metadata": {},
   "source": [
    "## 2. Movement of the head"
   ]
  },
  {
   "cell_type": "code",
   "execution_count": 56,
   "id": "focal-paste",
   "metadata": {},
   "outputs": [],
   "source": [
    "df = df_Original.copy()"
   ]
  },
  {
   "cell_type": "code",
   "execution_count": 57,
   "id": "military-finding",
   "metadata": {},
   "outputs": [],
   "source": [
    "df.fillna(0, inplace=True)"
   ]
  },
  {
   "cell_type": "code",
   "execution_count": 58,
   "id": "impaired-mailman",
   "metadata": {},
   "outputs": [],
   "source": [
    "df['row_sum'] = df['Anger'] + df['Disgust'] + df['Fear'] + df['Sadness'] + df['Smile'] +  df['Surprise']"
   ]
  },
  {
   "cell_type": "code",
   "execution_count": 59,
   "id": "cultural-prefix",
   "metadata": {},
   "outputs": [],
   "source": [
    "# creating new shifted column for all relevant columns\n",
    "df['Shift_rowSum'] = df['row_sum'].shift(1)\n",
    "df['Shift_Pitch'] = df['Pitch'].shift(1)\n",
    "df['Shift_Roll'] = df['Roll'].shift(1)\n",
    "df['Shift_Yaw'] = df['Yaw'].shift(1)"
   ]
  },
  {
   "cell_type": "code",
   "execution_count": 60,
   "id": "delayed-algebra",
   "metadata": {},
   "outputs": [],
   "source": [
    "# creating the diff between two frames\n",
    "df['Diff_Pitch'] = abs(df['Pitch'] - df['Pitch'].shift(1))\n",
    "df['Diff_Roll'] = abs(df['Roll'] - df['Roll'].shift(1))\n",
    "df['Diff_Yaw'] = abs(df['Yaw'] - df['Yaw'].shift(1))"
   ]
  },
  {
   "cell_type": "code",
   "execution_count": 61,
   "id": "framed-block",
   "metadata": {},
   "outputs": [],
   "source": [
    "# copy relevant to new df\n",
    "df1 = df[df['Diff_Pitch'].notna()]"
   ]
  },
  {
   "cell_type": "code",
   "execution_count": 62,
   "id": "balanced-possession",
   "metadata": {},
   "outputs": [],
   "source": [
    "# remove null rows\n",
    "df1 = df1.drop(df1[df1.row_sum < 0.0000001].index) \n",
    "df1 = df1.drop(df1[df1.Shift_rowSum < 0.0000001].index)"
   ]
  },
  {
   "cell_type": "code",
   "execution_count": 63,
   "id": "thermal-university",
   "metadata": {},
   "outputs": [],
   "source": [
    "df1 = df1[ ['ID'] + ['Diff_Pitch']+ ['Diff_Roll']+ ['Diff_Yaw'] ] "
   ]
  },
  {
   "cell_type": "code",
   "execution_count": 64,
   "id": "empty-distinction",
   "metadata": {},
   "outputs": [
    {
     "data": {
      "text/html": [
       "<div>\n",
       "<style scoped>\n",
       "    .dataframe tbody tr th:only-of-type {\n",
       "        vertical-align: middle;\n",
       "    }\n",
       "\n",
       "    .dataframe tbody tr th {\n",
       "        vertical-align: top;\n",
       "    }\n",
       "\n",
       "    .dataframe thead th {\n",
       "        text-align: right;\n",
       "    }\n",
       "</style>\n",
       "<table border=\"1\" class=\"dataframe\">\n",
       "  <thead>\n",
       "    <tr style=\"text-align: right;\">\n",
       "      <th></th>\n",
       "      <th>Diff_Pitch</th>\n",
       "      <th>Diff_Roll</th>\n",
       "      <th>Diff_Yaw</th>\n",
       "    </tr>\n",
       "    <tr>\n",
       "      <th>ID</th>\n",
       "      <th></th>\n",
       "      <th></th>\n",
       "      <th></th>\n",
       "    </tr>\n",
       "  </thead>\n",
       "  <tbody>\n",
       "    <tr>\n",
       "      <th>1010598340</th>\n",
       "      <td>0.977104</td>\n",
       "      <td>1.243577</td>\n",
       "      <td>1.294176</td>\n",
       "    </tr>\n",
       "    <tr>\n",
       "      <th>10120119131</th>\n",
       "      <td>1.353724</td>\n",
       "      <td>1.541759</td>\n",
       "      <td>1.349941</td>\n",
       "    </tr>\n",
       "    <tr>\n",
       "      <th>1015608034</th>\n",
       "      <td>0.986076</td>\n",
       "      <td>1.095488</td>\n",
       "      <td>1.025045</td>\n",
       "    </tr>\n",
       "    <tr>\n",
       "      <th>1016155105</th>\n",
       "      <td>1.424711</td>\n",
       "      <td>1.397242</td>\n",
       "      <td>1.176961</td>\n",
       "    </tr>\n",
       "    <tr>\n",
       "      <th>1018172959</th>\n",
       "      <td>1.387216</td>\n",
       "      <td>1.452423</td>\n",
       "      <td>1.365880</td>\n",
       "    </tr>\n",
       "  </tbody>\n",
       "</table>\n",
       "</div>"
      ],
      "text/plain": [
       "             Diff_Pitch  Diff_Roll  Diff_Yaw\n",
       "ID                                          \n",
       "1010598340     0.977104   1.243577  1.294176\n",
       "10120119131    1.353724   1.541759  1.349941\n",
       "1015608034     0.986076   1.095488  1.025045\n",
       "1016155105     1.424711   1.397242  1.176961\n",
       "1018172959     1.387216   1.452423  1.365880"
      ]
     },
     "execution_count": 64,
     "metadata": {},
     "output_type": "execute_result"
    }
   ],
   "source": [
    "f_head_move = df1.groupby('ID').mean()\n",
    "f_head_move.head()"
   ]
  },
  {
   "cell_type": "code",
   "execution_count": 65,
   "id": "packed-departure",
   "metadata": {},
   "outputs": [],
   "source": [
    "f_head_move = f_head_move.reset_index()"
   ]
  },
  {
   "cell_type": "code",
   "execution_count": 66,
   "id": "imperial-adolescent",
   "metadata": {},
   "outputs": [],
   "source": [
    "f_head_move['ID'] = pd.to_numeric(f_head_move['ID'])"
   ]
  },
  {
   "cell_type": "code",
   "execution_count": 67,
   "id": "american-showcase",
   "metadata": {},
   "outputs": [],
   "source": [
    "df_main = pd.merge(df_main ,f_head_move , how='outer', on='ID')"
   ]
  },
  {
   "cell_type": "code",
   "execution_count": 68,
   "id": "technical-intersection",
   "metadata": {},
   "outputs": [
    {
     "data": {
      "text/html": [
       "<div>\n",
       "<style scoped>\n",
       "    .dataframe tbody tr th:only-of-type {\n",
       "        vertical-align: middle;\n",
       "    }\n",
       "\n",
       "    .dataframe tbody tr th {\n",
       "        vertical-align: top;\n",
       "    }\n",
       "\n",
       "    .dataframe thead th {\n",
       "        text-align: right;\n",
       "    }\n",
       "</style>\n",
       "<table border=\"1\" class=\"dataframe\">\n",
       "  <thead>\n",
       "    <tr style=\"text-align: right;\">\n",
       "      <th></th>\n",
       "      <th>ID</th>\n",
       "      <th>Group</th>\n",
       "      <th>Total_frames_num</th>\n",
       "      <th>Valid_frames_num</th>\n",
       "      <th>Frames_Percentage</th>\n",
       "      <th>Diff_Pitch</th>\n",
       "      <th>Diff_Roll</th>\n",
       "      <th>Diff_Yaw</th>\n",
       "    </tr>\n",
       "  </thead>\n",
       "  <tbody>\n",
       "    <tr>\n",
       "      <th>0</th>\n",
       "      <td>673249918</td>\n",
       "      <td>0</td>\n",
       "      <td>85736</td>\n",
       "      <td>16471</td>\n",
       "      <td>0.192113</td>\n",
       "      <td>1.412543</td>\n",
       "      <td>1.420279</td>\n",
       "      <td>1.432545</td>\n",
       "    </tr>\n",
       "    <tr>\n",
       "      <th>1</th>\n",
       "      <td>1021408222</td>\n",
       "      <td>0</td>\n",
       "      <td>90365</td>\n",
       "      <td>19580</td>\n",
       "      <td>0.216677</td>\n",
       "      <td>1.540340</td>\n",
       "      <td>1.761364</td>\n",
       "      <td>1.485873</td>\n",
       "    </tr>\n",
       "    <tr>\n",
       "      <th>2</th>\n",
       "      <td>1019778562</td>\n",
       "      <td>0</td>\n",
       "      <td>111063</td>\n",
       "      <td>21325</td>\n",
       "      <td>0.192008</td>\n",
       "      <td>1.482536</td>\n",
       "      <td>1.816111</td>\n",
       "      <td>1.490298</td>\n",
       "    </tr>\n",
       "    <tr>\n",
       "      <th>3</th>\n",
       "      <td>1021093597</td>\n",
       "      <td>0</td>\n",
       "      <td>82627</td>\n",
       "      <td>46000</td>\n",
       "      <td>0.556719</td>\n",
       "      <td>1.124373</td>\n",
       "      <td>1.295388</td>\n",
       "      <td>1.134773</td>\n",
       "    </tr>\n",
       "    <tr>\n",
       "      <th>4</th>\n",
       "      <td>669779629</td>\n",
       "      <td>0</td>\n",
       "      <td>104995</td>\n",
       "      <td>24678</td>\n",
       "      <td>0.235040</td>\n",
       "      <td>1.338867</td>\n",
       "      <td>1.550114</td>\n",
       "      <td>1.518380</td>\n",
       "    </tr>\n",
       "  </tbody>\n",
       "</table>\n",
       "</div>"
      ],
      "text/plain": [
       "           ID  Group  Total_frames_num  Valid_frames_num  Frames_Percentage  \\\n",
       "0   673249918      0             85736             16471           0.192113   \n",
       "1  1021408222      0             90365             19580           0.216677   \n",
       "2  1019778562      0            111063             21325           0.192008   \n",
       "3  1021093597      0             82627             46000           0.556719   \n",
       "4   669779629      0            104995             24678           0.235040   \n",
       "\n",
       "   Diff_Pitch  Diff_Roll  Diff_Yaw  \n",
       "0    1.412543   1.420279  1.432545  \n",
       "1    1.540340   1.761364  1.485873  \n",
       "2    1.482536   1.816111  1.490298  \n",
       "3    1.124373   1.295388  1.134773  \n",
       "4    1.338867   1.550114  1.518380  "
      ]
     },
     "execution_count": 68,
     "metadata": {},
     "output_type": "execute_result"
    }
   ],
   "source": [
    "df_main.head()"
   ]
  },
  {
   "cell_type": "markdown",
   "id": "fossil-bench",
   "metadata": {},
   "source": [
    "## 3. Child distance from the >group/NT< average - This is only for smile"
   ]
  },
  {
   "cell_type": "markdown",
   "id": "painful-switch",
   "metadata": {},
   "source": [
    "Vector analysis purpose - take all frames above the bar (75), average them per child. Get average vector per group, Then automatically calculate the distance between groups."
   ]
  },
  {
   "cell_type": "markdown",
   "id": "floral-anniversary",
   "metadata": {},
   "source": [
    "### This section will only prepare the files for the excel sheet for calculation"
   ]
  },
  {
   "cell_type": "code",
   "execution_count": 69,
   "id": "suffering-orleans",
   "metadata": {},
   "outputs": [],
   "source": [
    "df = df_Original.copy()"
   ]
  },
  {
   "cell_type": "code",
   "execution_count": 70,
   "id": "romance-nightmare",
   "metadata": {},
   "outputs": [
    {
     "data": {
      "text/plain": [
       "44"
      ]
     },
     "execution_count": 70,
     "metadata": {},
     "output_type": "execute_result"
    }
   ],
   "source": [
    "df[\"ID\"].nunique()"
   ]
  },
  {
   "cell_type": "code",
   "execution_count": 71,
   "id": "running-landing",
   "metadata": {},
   "outputs": [],
   "source": [
    "df = df.dropna(subset=['Brow Furrow', 'Brow Raise'])"
   ]
  },
  {
   "cell_type": "code",
   "execution_count": 72,
   "id": "beneficial-lloyd",
   "metadata": {},
   "outputs": [],
   "source": [
    "df['Line_sum'] = df['Anger'] + df['Disgust'] + df['Fear'] + df['Sadness'] + df['Smile'] + df['Surprise']\n",
    "df['Line'] = np.where(df.Line_sum > 0.000001, 1, 0) \n",
    "del df['Line_sum']"
   ]
  },
  {
   "cell_type": "code",
   "execution_count": 73,
   "id": "marine-alexander",
   "metadata": {},
   "outputs": [],
   "source": [
    "df_bars = df.copy()\n",
    "bar_input = 75"
   ]
  },
  {
   "cell_type": "code",
   "execution_count": 74,
   "id": "identical-chrome",
   "metadata": {},
   "outputs": [],
   "source": [
    "# Set indicatior if value is above bar\n",
    "#Anger_Name = \"Anger\" + str(bar_input)\n",
    "#Disgust_Name = \"Disgust\" + str(bar_input)\n",
    "#Fear_Name = \"Fear\" + str(bar_input)\n",
    "#Sadness_Name = \"Sadness\" + str(bar_input)\n",
    "Smile_Name = \"Smile\" + str(bar_input)\n",
    "#Surprise_Name = \"Surprise\" + str(bar_input)\n",
    "\n",
    "#df_bars[Anger_Name] = np.where(df_bars.Anger > bar_input , 1, 0) \n",
    "#df_bars[Disgust_Name] = np.where(df_bars.Disgust > bar_input , 1, 0) \n",
    "#df_bars[Fear_Name] = np.where(df_bars.Fear > bar_input , 1, 0) \n",
    "#df_bars[Sadness_Name] = np.where(df_bars.Sadness > bar_input , 1, 0) \n",
    "df_bars[Smile_Name] = np.where(df_bars.Smile > bar_input , 1, 0) \n",
    "#df_bars[Surprise_Name] = np.where(df_bars.Surprise > bar_input , 1, 0) "
   ]
  },
  {
   "cell_type": "code",
   "execution_count": 75,
   "id": "eight-support",
   "metadata": {},
   "outputs": [],
   "source": [
    "# Keep only frames with values above bar (split to df by feeling)\n",
    "#df_bars_Anger = df_bars.loc[lambda df_bars: df_bars[Anger_Name] > 0, :]\n",
    "#df_bars_Disgust = df_bars.loc[lambda df_bars: df_bars[Disgust_Name] > 0, :]\n",
    "#df_bars_Fear = df_bars.loc[lambda df_bars: df_bars[Fear_Name] > 0, :]\n",
    "#df_bars_Sadness = df_bars.loc[lambda df_bars: df_bars[Sadness_Name] > 0, :]\n",
    "df_bars_Smile = df_bars.loc[lambda df_bars: df_bars[Smile_Name] > 0, :]\n",
    "#df_bars_Surprise = df_bars.loc[lambda df_bars: df_bars[Surprise_Name] > 0, :]"
   ]
  },
  {
   "cell_type": "code",
   "execution_count": 76,
   "id": "final-multiple",
   "metadata": {},
   "outputs": [],
   "source": [
    "#df_Output_Anger = df_bars_Anger.groupby('ID').agg([np.average]).iloc[:,1:36]\n",
    "#df_Output_Disgust = df_bars_Disgust.groupby('ID').agg([np.average]).iloc[:,1:36]\n",
    "#df_Output_Fear = df_bars_Fear.groupby('ID').agg([np.average]).iloc[:,1:36]\n",
    "#df_Output_Sadness = df_bars_Sadness.groupby('ID').agg([np.average]).iloc[:,1:36]\n",
    "df_Output_Smile = df_bars_Smile.groupby('ID').agg([np.average]).iloc[:,1:36]\n",
    "#df_Output_Surprise = df_bars_Surprise.groupby('ID').agg([np.average]).iloc[:,1:36]"
   ]
  },
  {
   "cell_type": "code",
   "execution_count": 77,
   "id": "iraqi-stage",
   "metadata": {},
   "outputs": [],
   "source": [
    "df_Output_Smile.columns = df_Output_Smile.columns.get_level_values(0)"
   ]
  },
  {
   "cell_type": "code",
   "execution_count": 78,
   "id": "agreed-foster",
   "metadata": {},
   "outputs": [],
   "source": [
    "df_Output_Smile = df_Output_Smile.reset_index()"
   ]
  },
  {
   "cell_type": "code",
   "execution_count": 79,
   "id": "czech-israel",
   "metadata": {},
   "outputs": [
    {
     "data": {
      "text/html": [
       "<div>\n",
       "<style scoped>\n",
       "    .dataframe tbody tr th:only-of-type {\n",
       "        vertical-align: middle;\n",
       "    }\n",
       "\n",
       "    .dataframe tbody tr th {\n",
       "        vertical-align: top;\n",
       "    }\n",
       "\n",
       "    .dataframe thead th {\n",
       "        text-align: right;\n",
       "    }\n",
       "</style>\n",
       "<table border=\"1\" class=\"dataframe\">\n",
       "  <thead>\n",
       "    <tr style=\"text-align: right;\">\n",
       "      <th></th>\n",
       "      <th>ID</th>\n",
       "      <th>Anger</th>\n",
       "      <th>Brow Furrow</th>\n",
       "      <th>Brow Raise</th>\n",
       "      <th>Cheek Raise</th>\n",
       "      <th>ChinRaise</th>\n",
       "      <th>Dimpler</th>\n",
       "      <th>Disgust</th>\n",
       "      <th>Eye Widen</th>\n",
       "      <th>EyeClosure</th>\n",
       "      <th>...</th>\n",
       "      <th>Pitch</th>\n",
       "      <th>Roll</th>\n",
       "      <th>Sadness</th>\n",
       "      <th>Smile</th>\n",
       "      <th>Smirk</th>\n",
       "      <th>Surprise</th>\n",
       "      <th>UpperLipRaise</th>\n",
       "      <th>Yaw</th>\n",
       "      <th>Line</th>\n",
       "      <th>Smile75</th>\n",
       "    </tr>\n",
       "  </thead>\n",
       "  <tbody>\n",
       "    <tr>\n",
       "      <th>0</th>\n",
       "      <td>1010598340</td>\n",
       "      <td>0.000137</td>\n",
       "      <td>0.036076</td>\n",
       "      <td>0.286698</td>\n",
       "      <td>50.442457</td>\n",
       "      <td>3.691158</td>\n",
       "      <td>13.716715</td>\n",
       "      <td>0.026448</td>\n",
       "      <td>0.000941</td>\n",
       "      <td>44.051035</td>\n",
       "      <td>...</td>\n",
       "      <td>-9.239663</td>\n",
       "      <td>1.920795</td>\n",
       "      <td>0.000020</td>\n",
       "      <td>95.047114</td>\n",
       "      <td>1.253576</td>\n",
       "      <td>1.314404</td>\n",
       "      <td>0.078069</td>\n",
       "      <td>-10.003702</td>\n",
       "      <td>1</td>\n",
       "      <td>1</td>\n",
       "    </tr>\n",
       "    <tr>\n",
       "      <th>1</th>\n",
       "      <td>10120119131</td>\n",
       "      <td>0.000195</td>\n",
       "      <td>0.035389</td>\n",
       "      <td>2.447218</td>\n",
       "      <td>22.191078</td>\n",
       "      <td>5.086548</td>\n",
       "      <td>7.351269</td>\n",
       "      <td>0.025905</td>\n",
       "      <td>1.496303</td>\n",
       "      <td>44.627526</td>\n",
       "      <td>...</td>\n",
       "      <td>-16.785078</td>\n",
       "      <td>5.489743</td>\n",
       "      <td>0.000035</td>\n",
       "      <td>89.739162</td>\n",
       "      <td>0.936220</td>\n",
       "      <td>2.351371</td>\n",
       "      <td>0.227903</td>\n",
       "      <td>-10.078008</td>\n",
       "      <td>1</td>\n",
       "      <td>1</td>\n",
       "    </tr>\n",
       "    <tr>\n",
       "      <th>2</th>\n",
       "      <td>1015608034</td>\n",
       "      <td>0.000351</td>\n",
       "      <td>0.014344</td>\n",
       "      <td>4.292850</td>\n",
       "      <td>32.144834</td>\n",
       "      <td>8.224106</td>\n",
       "      <td>12.802820</td>\n",
       "      <td>0.009030</td>\n",
       "      <td>1.698140</td>\n",
       "      <td>54.338198</td>\n",
       "      <td>...</td>\n",
       "      <td>-17.665457</td>\n",
       "      <td>-1.820972</td>\n",
       "      <td>0.000020</td>\n",
       "      <td>94.462501</td>\n",
       "      <td>0.592566</td>\n",
       "      <td>3.420287</td>\n",
       "      <td>0.069950</td>\n",
       "      <td>-12.735274</td>\n",
       "      <td>1</td>\n",
       "      <td>1</td>\n",
       "    </tr>\n",
       "    <tr>\n",
       "      <th>3</th>\n",
       "      <td>1016155105</td>\n",
       "      <td>0.000498</td>\n",
       "      <td>1.823084</td>\n",
       "      <td>0.428427</td>\n",
       "      <td>43.890558</td>\n",
       "      <td>9.138868</td>\n",
       "      <td>10.026663</td>\n",
       "      <td>0.413206</td>\n",
       "      <td>1.404502</td>\n",
       "      <td>41.318782</td>\n",
       "      <td>...</td>\n",
       "      <td>-8.008497</td>\n",
       "      <td>2.522965</td>\n",
       "      <td>0.003817</td>\n",
       "      <td>91.661194</td>\n",
       "      <td>2.104376</td>\n",
       "      <td>8.567728</td>\n",
       "      <td>0.739487</td>\n",
       "      <td>8.330293</td>\n",
       "      <td>1</td>\n",
       "      <td>1</td>\n",
       "    </tr>\n",
       "    <tr>\n",
       "      <th>4</th>\n",
       "      <td>1018172959</td>\n",
       "      <td>0.000077</td>\n",
       "      <td>0.044616</td>\n",
       "      <td>0.000341</td>\n",
       "      <td>33.431636</td>\n",
       "      <td>1.669250</td>\n",
       "      <td>9.592309</td>\n",
       "      <td>0.089414</td>\n",
       "      <td>0.120411</td>\n",
       "      <td>44.379836</td>\n",
       "      <td>...</td>\n",
       "      <td>-11.479736</td>\n",
       "      <td>7.021477</td>\n",
       "      <td>0.000162</td>\n",
       "      <td>93.758109</td>\n",
       "      <td>1.752549</td>\n",
       "      <td>1.593197</td>\n",
       "      <td>0.049914</td>\n",
       "      <td>-10.702538</td>\n",
       "      <td>1</td>\n",
       "      <td>1</td>\n",
       "    </tr>\n",
       "  </tbody>\n",
       "</table>\n",
       "<p>5 rows × 31 columns</p>\n",
       "</div>"
      ],
      "text/plain": [
       "            ID     Anger  Brow Furrow  Brow Raise  Cheek Raise  ChinRaise  \\\n",
       "0   1010598340  0.000137     0.036076    0.286698    50.442457   3.691158   \n",
       "1  10120119131  0.000195     0.035389    2.447218    22.191078   5.086548   \n",
       "2   1015608034  0.000351     0.014344    4.292850    32.144834   8.224106   \n",
       "3   1016155105  0.000498     1.823084    0.428427    43.890558   9.138868   \n",
       "4   1018172959  0.000077     0.044616    0.000341    33.431636   1.669250   \n",
       "\n",
       "     Dimpler   Disgust  Eye Widen  EyeClosure  ...      Pitch      Roll  \\\n",
       "0  13.716715  0.026448   0.000941   44.051035  ...  -9.239663  1.920795   \n",
       "1   7.351269  0.025905   1.496303   44.627526  ... -16.785078  5.489743   \n",
       "2  12.802820  0.009030   1.698140   54.338198  ... -17.665457 -1.820972   \n",
       "3  10.026663  0.413206   1.404502   41.318782  ...  -8.008497  2.522965   \n",
       "4   9.592309  0.089414   0.120411   44.379836  ... -11.479736  7.021477   \n",
       "\n",
       "    Sadness      Smile     Smirk  Surprise  UpperLipRaise        Yaw  Line  \\\n",
       "0  0.000020  95.047114  1.253576  1.314404       0.078069 -10.003702     1   \n",
       "1  0.000035  89.739162  0.936220  2.351371       0.227903 -10.078008     1   \n",
       "2  0.000020  94.462501  0.592566  3.420287       0.069950 -12.735274     1   \n",
       "3  0.003817  91.661194  2.104376  8.567728       0.739487   8.330293     1   \n",
       "4  0.000162  93.758109  1.752549  1.593197       0.049914 -10.702538     1   \n",
       "\n",
       "   Smile75  \n",
       "0        1  \n",
       "1        1  \n",
       "2        1  \n",
       "3        1  \n",
       "4        1  \n",
       "\n",
       "[5 rows x 31 columns]"
      ]
     },
     "execution_count": 79,
     "metadata": {},
     "output_type": "execute_result"
    }
   ],
   "source": [
    "df_Output_Smile.head()"
   ]
  },
  {
   "cell_type": "code",
   "execution_count": 80,
   "id": "young-fiction",
   "metadata": {},
   "outputs": [],
   "source": [
    "df_diag = pd.read_excel(diagnosis)"
   ]
  },
  {
   "cell_type": "code",
   "execution_count": 81,
   "id": "editorial-distribution",
   "metadata": {},
   "outputs": [],
   "source": [
    "del df_Output_Smile[\"Line\"]\n",
    "del df_Output_Smile[\"Smile75\"]"
   ]
  },
  {
   "cell_type": "code",
   "execution_count": 82,
   "id": "packed-holder",
   "metadata": {},
   "outputs": [],
   "source": [
    "# --for BU, all\n",
    "#df_Output_Smile = df_Output_Smile[['ID'] + ['Smile'] + ['Anger'] + ['Sadness'] + ['Disgust'] + ['Surprise'] + ['Fear'] + ['Brow Furrow'] + ['Brow Raise'] + ['Lip Corner Depressor'] + ['InnerBrowRaise'] + ['EyeClosure'] + ['NoseWrinkle'] + ['UpperLipRaise'] + ['LipSuck'] + ['LipPress'] + ['MouthOpen'] + ['ChinRaise'] + ['Smirk'] + ['LipPucker'] + ['Cheek Raise'] + ['Dimpler'] + ['Eye Widen'] + ['Lid Tighten'] + ['Lip Stretch'] + ['Jaw Drop'] + ['Pitch'] + ['Yaw'] + ['Roll']]"
   ]
  },
  {
   "cell_type": "code",
   "execution_count": 83,
   "id": "conditional-alexander",
   "metadata": {},
   "outputs": [],
   "source": [
    "# Only AUs\n",
    "df_Output_Smile = df_Output_Smile[['ID'] + ['Brow Furrow'] + ['Brow Raise'] + ['Lip Corner Depressor'] + ['InnerBrowRaise'] + ['EyeClosure'] + ['NoseWrinkle'] + ['UpperLipRaise'] + ['LipSuck'] + ['LipPress'] + ['MouthOpen'] + ['ChinRaise'] + ['Smirk'] + ['LipPucker'] + ['Cheek Raise'] + ['Dimpler'] + ['Eye Widen'] + ['Lid Tighten'] + ['Lip Stretch'] + ['Jaw Drop']]"
   ]
  },
  {
   "cell_type": "code",
   "execution_count": 84,
   "id": "incorporate-southeast",
   "metadata": {},
   "outputs": [],
   "source": [
    "df_Output_Smile['ID'] = pd.to_numeric(df_Output_Smile['ID'])"
   ]
  },
  {
   "cell_type": "code",
   "execution_count": 85,
   "id": "numeric-slovak",
   "metadata": {},
   "outputs": [],
   "source": [
    "with pd.ExcelWriter(Output_directory + \"//\" + 'Vectors_input_75.xlsx') as writer:\n",
    "    df_diag.to_excel(writer, sheet_name='Diagnosis', index=False)\n",
    "    #df_Output_Anger.to_excel(writer, sheet_name='V_Anger', index=True)\n",
    "    #df_Output_Disgust.to_excel(writer, sheet_name='V_Disgust', index=True)\n",
    "    #df_Output_Fear.to_excel(writer, sheet_name='V_Fear', index=True)\n",
    "    #df_Output_Sadness.to_excel(writer, sheet_name='V_Sadness', index=True)\n",
    "    df_Output_Smile.to_excel(writer, sheet_name='V_Smile', index=False)\n",
    "    #df_Output_Surprise.to_excel(writer, sheet_name='V_Surprise', index=True)"
   ]
  },
  {
   "cell_type": "markdown",
   "id": "dominant-vacation",
   "metadata": {},
   "source": [
    "## V2- automatic calc"
   ]
  },
  {
   "cell_type": "code",
   "execution_count": 86,
   "id": "velvet-columbus",
   "metadata": {},
   "outputs": [],
   "source": [
    "# Merge with diagnosis\n",
    "df_AU_Smile_Ave = pd.merge(df_Output_Smile ,df_diag , how='outer', on='ID')"
   ]
  },
  {
   "cell_type": "code",
   "execution_count": 87,
   "id": "medical-upgrade",
   "metadata": {},
   "outputs": [],
   "source": [
    "# re-order\n",
    "df_AU_Smile_Ave = df_AU_Smile_Ave[['ID'] + ['Group'] + ['Brow Furrow'] + ['Brow Raise'] + ['Lip Corner Depressor'] + ['InnerBrowRaise'] + ['EyeClosure'] + ['NoseWrinkle'] + ['UpperLipRaise'] + ['LipSuck'] + ['LipPress'] + ['MouthOpen'] + ['ChinRaise'] + ['Smirk'] + ['LipPucker'] + ['Cheek Raise'] + ['Dimpler'] + ['Eye Widen'] + ['Lid Tighten'] + ['Lip Stretch'] + ['Jaw Drop']]"
   ]
  },
  {
   "cell_type": "code",
   "execution_count": 88,
   "id": "equipped-little",
   "metadata": {},
   "outputs": [],
   "source": [
    "#Group to 2 vectors per group\n",
    "df_AU_Mean_vector = df_AU_Smile_Ave.copy()\n",
    "del df_AU_Mean_vector[\"ID\"]\n",
    "df_AU_Mean_vector = df_AU_Mean_vector.groupby([\"Group\"]).mean()"
   ]
  },
  {
   "cell_type": "code",
   "execution_count": 89,
   "id": "numeric-seafood",
   "metadata": {},
   "outputs": [],
   "source": [
    "# reset index\n",
    "df_AU_Mean_vector = df_AU_Mean_vector.reset_index(level='Group')"
   ]
  },
  {
   "cell_type": "markdown",
   "id": "proved-graphic",
   "metadata": {},
   "source": [
    "### ASD-ASD , TD-TD"
   ]
  },
  {
   "cell_type": "code",
   "execution_count": 90,
   "id": "auburn-stupid",
   "metadata": {},
   "outputs": [],
   "source": [
    "# Merge original average AU calc with average vector per group\n",
    "df_dis = pd.merge(df_AU_Smile_Ave ,df_AU_Mean_vector , how='left', on='Group')"
   ]
  },
  {
   "cell_type": "code",
   "execution_count": 91,
   "id": "postal-latex",
   "metadata": {},
   "outputs": [],
   "source": [
    "# (xi-yi)^2\n",
    "df_dis[\"Brow Furrow\"] = pow((df_dis[\"Brow Furrow_x\"] - df_dis[\"Brow Furrow_y\"]),2)\n",
    "df_dis[\"Brow Raise\"] = pow((df_dis[\"Brow Raise_x\"] - df_dis[\"Brow Raise_y\"]),2)\n",
    "df_dis[\"Lip Corner Depressor\"] = pow((df_dis[\"Lip Corner Depressor_x\"] - df_dis[\"Lip Corner Depressor_y\"]),2)\n",
    "df_dis[\"InnerBrowRaise\"] = pow((df_dis[\"InnerBrowRaise_x\"] - df_dis[\"InnerBrowRaise_y\"]),2)\n",
    "df_dis[\"EyeClosure\"] = pow((df_dis[\"EyeClosure_x\"] - df_dis[\"EyeClosure_y\"]),2)\n",
    "df_dis[\"NoseWrinkle\"] = pow((df_dis[\"NoseWrinkle_x\"] - df_dis[\"NoseWrinkle_y\"]),2)\n",
    "df_dis[\"UpperLipRaise\"] = pow((df_dis[\"UpperLipRaise_x\"] - df_dis[\"UpperLipRaise_y\"]),2)\n",
    "df_dis[\"LipSuck\"] = pow((df_dis[\"LipSuck_x\"] - df_dis[\"LipSuck_y\"]),2)\n",
    "df_dis[\"LipPress\"] = pow((df_dis[\"LipPress_x\"] - df_dis[\"LipPress_y\"]),2)\n",
    "df_dis[\"MouthOpen\"] = pow((df_dis[\"MouthOpen_x\"] - df_dis[\"MouthOpen_y\"]),2)\n",
    "df_dis[\"ChinRaise\"] = pow((df_dis[\"ChinRaise_x\"] - df_dis[\"ChinRaise_y\"]),2)\n",
    "df_dis[\"Smirk\"] = pow((df_dis[\"Smirk_x\"] - df_dis[\"Smirk_y\"]),2)\n",
    "df_dis[\"LipPucker\"] = pow((df_dis[\"LipPucker_x\"] - df_dis[\"LipPucker_y\"]),2)\n",
    "df_dis[\"Cheek Raise\"] = pow((df_dis[\"Cheek Raise_x\"] - df_dis[\"Cheek Raise_y\"]),2)\n",
    "df_dis[\"Dimpler\"] = pow((df_dis[\"Dimpler_x\"] - df_dis[\"Dimpler_y\"]),2)\n",
    "df_dis[\"Eye Widen\"] = pow((df_dis[\"Eye Widen_x\"] - df_dis[\"Eye Widen_y\"]),2)\n",
    "df_dis[\"Lid Tighten\"] = pow((df_dis[\"Lid Tighten_x\"] - df_dis[\"Lid Tighten_y\"]),2)\n",
    "df_dis[\"Lip Stretch\"] = pow((df_dis[\"Lip Stretch_x\"] - df_dis[\"Lip Stretch_y\"]),2)\n",
    "df_dis[\"Jaw Drop\"] = pow((df_dis[\"Jaw Drop_x\"] - df_dis[\"Jaw Drop_y\"]),2)"
   ]
  },
  {
   "cell_type": "code",
   "execution_count": 92,
   "id": "parental-windsor",
   "metadata": {},
   "outputs": [],
   "source": [
    "AUs_list = ['ID', 'Brow Furrow', 'Brow Raise', 'Lip Corner Depressor', 'InnerBrowRaise', 'EyeClosure', 'NoseWrinkle', 'UpperLipRaise', 'LipSuck', 'LipPress', 'MouthOpen', 'ChinRaise', 'Smirk', 'LipPucker', 'Cheek Raise', 'Dimpler', 'Eye Widen', 'Lid Tighten', 'Lip Stretch', 'Jaw Drop']\n",
    "df_dis = df_dis[AUs_list]"
   ]
  },
  {
   "cell_type": "code",
   "execution_count": 93,
   "id": "amber-orchestra",
   "metadata": {},
   "outputs": [],
   "source": [
    "column_list = list(df_dis)\n",
    "column_list.remove(\"ID\")"
   ]
  },
  {
   "cell_type": "code",
   "execution_count": 94,
   "id": "internal-hungarian",
   "metadata": {},
   "outputs": [],
   "source": [
    "# Sum((xi-yi)^2)\n",
    "df_dis[\"AUs_sum\"] = (df_dis[column_list].sum(axis=1))\n",
    "# sqrt(Sum((xi-yi)^2))\n",
    "df_dis[\"Sqrt_AUs_sum\"] = np.sqrt(df_dis[column_list].sum(axis=1))"
   ]
  },
  {
   "cell_type": "code",
   "execution_count": 95,
   "id": "internal-fetish",
   "metadata": {},
   "outputs": [],
   "source": [
    "df_dis_output = df_dis[['ID', 'Sqrt_AUs_sum']]"
   ]
  },
  {
   "cell_type": "code",
   "execution_count": 96,
   "id": "human-grammar",
   "metadata": {},
   "outputs": [],
   "source": [
    "df_dis_output = df_dis_output.rename(columns={\"Sqrt_AUs_sum\":\"Euclidean_distance_ASD_NT\"})"
   ]
  },
  {
   "cell_type": "code",
   "execution_count": 97,
   "id": "solid-beauty",
   "metadata": {},
   "outputs": [
    {
     "data": {
      "text/html": [
       "<div>\n",
       "<style scoped>\n",
       "    .dataframe tbody tr th:only-of-type {\n",
       "        vertical-align: middle;\n",
       "    }\n",
       "\n",
       "    .dataframe tbody tr th {\n",
       "        vertical-align: top;\n",
       "    }\n",
       "\n",
       "    .dataframe thead th {\n",
       "        text-align: right;\n",
       "    }\n",
       "</style>\n",
       "<table border=\"1\" class=\"dataframe\">\n",
       "  <thead>\n",
       "    <tr style=\"text-align: right;\">\n",
       "      <th></th>\n",
       "      <th>ID</th>\n",
       "      <th>Euclidean_distance_ASD_NT</th>\n",
       "    </tr>\n",
       "  </thead>\n",
       "  <tbody>\n",
       "    <tr>\n",
       "      <th>0</th>\n",
       "      <td>1010598340</td>\n",
       "      <td>15.601441</td>\n",
       "    </tr>\n",
       "    <tr>\n",
       "      <th>1</th>\n",
       "      <td>10120119131</td>\n",
       "      <td>30.568210</td>\n",
       "    </tr>\n",
       "    <tr>\n",
       "      <th>2</th>\n",
       "      <td>1015608034</td>\n",
       "      <td>33.574491</td>\n",
       "    </tr>\n",
       "    <tr>\n",
       "      <th>3</th>\n",
       "      <td>1016155105</td>\n",
       "      <td>34.223811</td>\n",
       "    </tr>\n",
       "    <tr>\n",
       "      <th>4</th>\n",
       "      <td>1018172959</td>\n",
       "      <td>24.550748</td>\n",
       "    </tr>\n",
       "  </tbody>\n",
       "</table>\n",
       "</div>"
      ],
      "text/plain": [
       "            ID  Euclidean_distance_ASD_NT\n",
       "0   1010598340                  15.601441\n",
       "1  10120119131                  30.568210\n",
       "2   1015608034                  33.574491\n",
       "3   1016155105                  34.223811\n",
       "4   1018172959                  24.550748"
      ]
     },
     "execution_count": 97,
     "metadata": {},
     "output_type": "execute_result"
    }
   ],
   "source": [
    "df_dis_output.head()"
   ]
  },
  {
   "cell_type": "code",
   "execution_count": 98,
   "id": "later-communication",
   "metadata": {},
   "outputs": [],
   "source": [
    "# Merge to Main\n",
    "df_dis_output['ID'] = pd.to_numeric(df_dis_output['ID'])\n",
    "df_main = pd.merge(df_main ,df_dis_output , how='outer', on='ID')"
   ]
  },
  {
   "cell_type": "markdown",
   "id": "south-associate",
   "metadata": {},
   "source": [
    "### ASD-NT, NT-NT"
   ]
  },
  {
   "cell_type": "code",
   "execution_count": 99,
   "id": "welcome-alaska",
   "metadata": {},
   "outputs": [],
   "source": [
    "#Stay with TD vector only\n",
    "df_AU_Mean_vector = df_AU_Mean_vector.drop(df_AU_Mean_vector[df_AU_Mean_vector.Group != 0].index)"
   ]
  },
  {
   "cell_type": "code",
   "execution_count": 100,
   "id": "exceptional-worship",
   "metadata": {},
   "outputs": [],
   "source": [
    "# \"Force\" ASD to be TD only for the merge\n",
    "df_AU_Smile_Ave[\"Group\"].replace({1: 0}, inplace=True)"
   ]
  },
  {
   "cell_type": "code",
   "execution_count": 101,
   "id": "confused-handbook",
   "metadata": {},
   "outputs": [],
   "source": [
    "# Merge original average AU calc with average vector per group\n",
    "df_dis = pd.merge(df_AU_Smile_Ave ,df_AU_Mean_vector , how='left', on='Group')"
   ]
  },
  {
   "cell_type": "code",
   "execution_count": 102,
   "id": "approved-necklace",
   "metadata": {},
   "outputs": [],
   "source": [
    "# (xi-yi)^2\n",
    "df_dis[\"Brow Furrow\"] = pow((df_dis[\"Brow Furrow_x\"] - df_dis[\"Brow Furrow_y\"]),2)\n",
    "df_dis[\"Brow Raise\"] = pow((df_dis[\"Brow Raise_x\"] - df_dis[\"Brow Raise_y\"]),2)\n",
    "df_dis[\"Lip Corner Depressor\"] = pow((df_dis[\"Lip Corner Depressor_x\"] - df_dis[\"Lip Corner Depressor_y\"]),2)\n",
    "df_dis[\"InnerBrowRaise\"] = pow((df_dis[\"InnerBrowRaise_x\"] - df_dis[\"InnerBrowRaise_y\"]),2)\n",
    "df_dis[\"EyeClosure\"] = pow((df_dis[\"EyeClosure_x\"] - df_dis[\"EyeClosure_y\"]),2)\n",
    "df_dis[\"NoseWrinkle\"] = pow((df_dis[\"NoseWrinkle_x\"] - df_dis[\"NoseWrinkle_y\"]),2)\n",
    "df_dis[\"UpperLipRaise\"] = pow((df_dis[\"UpperLipRaise_x\"] - df_dis[\"UpperLipRaise_y\"]),2)\n",
    "df_dis[\"LipSuck\"] = pow((df_dis[\"LipSuck_x\"] - df_dis[\"LipSuck_y\"]),2)\n",
    "df_dis[\"LipPress\"] = pow((df_dis[\"LipPress_x\"] - df_dis[\"LipPress_y\"]),2)\n",
    "df_dis[\"MouthOpen\"] = pow((df_dis[\"MouthOpen_x\"] - df_dis[\"MouthOpen_y\"]),2)\n",
    "df_dis[\"ChinRaise\"] = pow((df_dis[\"ChinRaise_x\"] - df_dis[\"ChinRaise_y\"]),2)\n",
    "df_dis[\"Smirk\"] = pow((df_dis[\"Smirk_x\"] - df_dis[\"Smirk_y\"]),2)\n",
    "df_dis[\"LipPucker\"] = pow((df_dis[\"LipPucker_x\"] - df_dis[\"LipPucker_y\"]),2)\n",
    "df_dis[\"Cheek Raise\"] = pow((df_dis[\"Cheek Raise_x\"] - df_dis[\"Cheek Raise_y\"]),2)\n",
    "df_dis[\"Dimpler\"] = pow((df_dis[\"Dimpler_x\"] - df_dis[\"Dimpler_y\"]),2)\n",
    "df_dis[\"Eye Widen\"] = pow((df_dis[\"Eye Widen_x\"] - df_dis[\"Eye Widen_y\"]),2)\n",
    "df_dis[\"Lid Tighten\"] = pow((df_dis[\"Lid Tighten_x\"] - df_dis[\"Lid Tighten_y\"]),2)\n",
    "df_dis[\"Lip Stretch\"] = pow((df_dis[\"Lip Stretch_x\"] - df_dis[\"Lip Stretch_y\"]),2)\n",
    "df_dis[\"Jaw Drop\"] = pow((df_dis[\"Jaw Drop_x\"] - df_dis[\"Jaw Drop_y\"]),2)"
   ]
  },
  {
   "cell_type": "code",
   "execution_count": 103,
   "id": "saved-spencer",
   "metadata": {},
   "outputs": [],
   "source": [
    "AUs_list = ['ID', 'Brow Furrow', 'Brow Raise', 'Lip Corner Depressor', 'InnerBrowRaise', 'EyeClosure', 'NoseWrinkle', 'UpperLipRaise', 'LipSuck', 'LipPress', 'MouthOpen', 'ChinRaise', 'Smirk', 'LipPucker', 'Cheek Raise', 'Dimpler', 'Eye Widen', 'Lid Tighten', 'Lip Stretch', 'Jaw Drop']\n",
    "df_dis = df_dis[AUs_list]"
   ]
  },
  {
   "cell_type": "code",
   "execution_count": 104,
   "id": "fresh-grave",
   "metadata": {},
   "outputs": [],
   "source": [
    "column_list = list(df_dis)\n",
    "column_list.remove(\"ID\")"
   ]
  },
  {
   "cell_type": "code",
   "execution_count": 105,
   "id": "dutch-mercury",
   "metadata": {},
   "outputs": [],
   "source": [
    "# Sum((xi-yi)^2)\n",
    "df_dis[\"AUs_sum\"] = (df_dis[column_list].sum(axis=1))\n",
    "# sqrt(Sum((xi-yi)^2))\n",
    "df_dis[\"Sqrt_AUs_sum\"] = np.sqrt(df_dis[column_list].sum(axis=1))"
   ]
  },
  {
   "cell_type": "code",
   "execution_count": 106,
   "id": "successful-jungle",
   "metadata": {},
   "outputs": [],
   "source": [
    "df_dis_output = df_dis[['ID', 'Sqrt_AUs_sum']]"
   ]
  },
  {
   "cell_type": "code",
   "execution_count": 107,
   "id": "understood-viking",
   "metadata": {},
   "outputs": [],
   "source": [
    "df_dis_output = df_dis_output.rename(columns={\"Sqrt_AUs_sum\":\"Euclidean_distance_NT_NT\"})"
   ]
  },
  {
   "cell_type": "code",
   "execution_count": 108,
   "id": "preceding-honolulu",
   "metadata": {},
   "outputs": [
    {
     "data": {
      "text/html": [
       "<div>\n",
       "<style scoped>\n",
       "    .dataframe tbody tr th:only-of-type {\n",
       "        vertical-align: middle;\n",
       "    }\n",
       "\n",
       "    .dataframe tbody tr th {\n",
       "        vertical-align: top;\n",
       "    }\n",
       "\n",
       "    .dataframe thead th {\n",
       "        text-align: right;\n",
       "    }\n",
       "</style>\n",
       "<table border=\"1\" class=\"dataframe\">\n",
       "  <thead>\n",
       "    <tr style=\"text-align: right;\">\n",
       "      <th></th>\n",
       "      <th>ID</th>\n",
       "      <th>Euclidean_distance_NT_NT</th>\n",
       "    </tr>\n",
       "  </thead>\n",
       "  <tbody>\n",
       "    <tr>\n",
       "      <th>0</th>\n",
       "      <td>1010598340</td>\n",
       "      <td>15.601441</td>\n",
       "    </tr>\n",
       "    <tr>\n",
       "      <th>1</th>\n",
       "      <td>10120119131</td>\n",
       "      <td>33.458771</td>\n",
       "    </tr>\n",
       "    <tr>\n",
       "      <th>2</th>\n",
       "      <td>1015608034</td>\n",
       "      <td>23.786411</td>\n",
       "    </tr>\n",
       "    <tr>\n",
       "      <th>3</th>\n",
       "      <td>1016155105</td>\n",
       "      <td>48.831206</td>\n",
       "    </tr>\n",
       "    <tr>\n",
       "      <th>4</th>\n",
       "      <td>1018172959</td>\n",
       "      <td>23.749915</td>\n",
       "    </tr>\n",
       "  </tbody>\n",
       "</table>\n",
       "</div>"
      ],
      "text/plain": [
       "            ID  Euclidean_distance_NT_NT\n",
       "0   1010598340                 15.601441\n",
       "1  10120119131                 33.458771\n",
       "2   1015608034                 23.786411\n",
       "3   1016155105                 48.831206\n",
       "4   1018172959                 23.749915"
      ]
     },
     "execution_count": 108,
     "metadata": {},
     "output_type": "execute_result"
    }
   ],
   "source": [
    "df_dis_output.head()"
   ]
  },
  {
   "cell_type": "code",
   "execution_count": 109,
   "id": "behind-analysis",
   "metadata": {},
   "outputs": [],
   "source": [
    "# Merge to Main\n",
    "df_dis_output['ID'] = pd.to_numeric(df_dis_output['ID'])\n",
    "df_main = pd.merge(df_main ,df_dis_output , how='outer', on='ID')"
   ]
  },
  {
   "cell_type": "markdown",
   "id": "existing-strike",
   "metadata": {},
   "source": [
    "## 4. % Of frames with some emotion above the threshold of 75 (Ilan's measure)"
   ]
  },
  {
   "cell_type": "code",
   "execution_count": 110,
   "id": "champion-briefing",
   "metadata": {},
   "outputs": [],
   "source": [
    "df = df_Original.copy()"
   ]
  },
  {
   "cell_type": "code",
   "execution_count": 111,
   "id": "crude-makeup",
   "metadata": {},
   "outputs": [
    {
     "data": {
      "text/plain": [
       "4090779"
      ]
     },
     "execution_count": 111,
     "metadata": {},
     "output_type": "execute_result"
    }
   ],
   "source": [
    "df.shape[0]"
   ]
  },
  {
   "cell_type": "code",
   "execution_count": 112,
   "id": "prospective-soccer",
   "metadata": {},
   "outputs": [],
   "source": [
    "df = df[ ['ID'] + ['FrameIndex']+ ['Anger'] + ['Disgust'] + ['Fear'] + ['Sadness'] + ['Smile'] + ['Surprise']]"
   ]
  },
  {
   "cell_type": "code",
   "execution_count": 113,
   "id": "regulation-stroke",
   "metadata": {},
   "outputs": [],
   "source": [
    "df.fillna(0, inplace=True)"
   ]
  },
  {
   "cell_type": "code",
   "execution_count": 114,
   "id": "broke-architect",
   "metadata": {},
   "outputs": [],
   "source": [
    "df['row_sum'] = df['Anger'] + df['Disgust'] + df['Fear'] + df['Sadness'] + df['Smile'] +  df['Surprise']"
   ]
  },
  {
   "cell_type": "code",
   "execution_count": 115,
   "id": "distinct-confidence",
   "metadata": {},
   "outputs": [],
   "source": [
    "df_No_zeros = df.drop(df[df.row_sum < 0.000001].index) # remove zeros\n",
    "del df_No_zeros[\"row_sum\"]"
   ]
  },
  {
   "cell_type": "code",
   "execution_count": 116,
   "id": "frank-draft",
   "metadata": {},
   "outputs": [
    {
     "data": {
      "text/plain": [
       "2980224"
      ]
     },
     "execution_count": 116,
     "metadata": {},
     "output_type": "execute_result"
    }
   ],
   "source": [
    "#deleted lines:\n",
    "df.shape[0] - df_No_zeros.shape[0]"
   ]
  },
  {
   "cell_type": "code",
   "execution_count": 117,
   "id": "convertible-hunter",
   "metadata": {},
   "outputs": [],
   "source": [
    "def Bars(df_input, bar_input):\n",
    "\n",
    "    df_bars = df_input.copy()\n",
    "    \n",
    "    #create column names\n",
    "    Anger_Name = \"Anger\" + str(bar_input)\n",
    "    Disgust_Name = \"Disgust\" + str(bar_input)\n",
    "    Fear_Name = \"Fear\" + str(bar_input)\n",
    "    Sadness_Name = \"Sadness\" + str(bar_input)\n",
    "    Smile_Name = \"Smile\" + str(bar_input)\n",
    "    Surprise_Name = \"Surprise\" + str(bar_input)\n",
    "    Sum_Name = \"Sum\" + str(bar_input)\n",
    "    \n",
    "    #check if row meets bar\n",
    "    df_bars[Anger_Name] = np.where(df_bars.Anger > bar_input , 1, 0) \n",
    "    df_bars[Disgust_Name] = np.where(df_bars.Disgust > bar_input , 1, 0) \n",
    "    df_bars[Fear_Name] = np.where(df_bars.Fear > bar_input , 1, 0) \n",
    "    df_bars[Sadness_Name] = np.where(df_bars.Sadness > bar_input , 1, 0) \n",
    "    df_bars[Smile_Name] = np.where(df_bars.Smile > bar_input , 1, 0) \n",
    "    df_bars[Surprise_Name] = np.where(df_bars.Surprise > bar_input , 1, 0) \n",
    "    \n",
    "    #Check if one of the emotions in the frame meets bar and separate them into new df\n",
    "    df_bars[Sum_Name] = df_bars[Anger_Name] + df_bars[Disgust_Name] + df_bars[Fear_Name] + df_bars[Sadness_Name] + df_bars[Smile_Name] + df_bars[Surprise_Name]\n",
    "    df_bars1 = df_bars.loc[lambda df_bars: df_bars[Sum_Name] > 0, :]\n",
    "    df_Output = df_bars1.groupby('ID').agg([np.sum]).iloc[:,7:15] #summerize by ID number of frames that met the bar for ID\n",
    "    \n",
    "    return df_Output"
   ]
  },
  {
   "cell_type": "code",
   "execution_count": 118,
   "id": "center-guyana",
   "metadata": {},
   "outputs": [],
   "source": [
    "#df_Bar25 = Bars(df_No_zeros , 25)\n",
    "#df_Bar50 = Bars(df_No_zeros , 50)\n",
    "df_Bar75 = Bars(df_No_zeros , 75)"
   ]
  },
  {
   "cell_type": "code",
   "execution_count": 119,
   "id": "latest-berkeley",
   "metadata": {},
   "outputs": [],
   "source": [
    "df_Bar75.columns = df_Bar75.columns.get_level_values(0)"
   ]
  },
  {
   "cell_type": "code",
   "execution_count": 120,
   "id": "according-internship",
   "metadata": {},
   "outputs": [
    {
     "data": {
      "text/html": [
       "<div>\n",
       "<style scoped>\n",
       "    .dataframe tbody tr th:only-of-type {\n",
       "        vertical-align: middle;\n",
       "    }\n",
       "\n",
       "    .dataframe tbody tr th {\n",
       "        vertical-align: top;\n",
       "    }\n",
       "\n",
       "    .dataframe thead th {\n",
       "        text-align: right;\n",
       "    }\n",
       "</style>\n",
       "<table border=\"1\" class=\"dataframe\">\n",
       "  <thead>\n",
       "    <tr style=\"text-align: right;\">\n",
       "      <th></th>\n",
       "      <th>Anger75</th>\n",
       "      <th>Disgust75</th>\n",
       "      <th>Fear75</th>\n",
       "      <th>Sadness75</th>\n",
       "      <th>Smile75</th>\n",
       "      <th>Surprise75</th>\n",
       "      <th>Sum75</th>\n",
       "    </tr>\n",
       "    <tr>\n",
       "      <th>ID</th>\n",
       "      <th></th>\n",
       "      <th></th>\n",
       "      <th></th>\n",
       "      <th></th>\n",
       "      <th></th>\n",
       "      <th></th>\n",
       "      <th></th>\n",
       "    </tr>\n",
       "  </thead>\n",
       "  <tbody>\n",
       "    <tr>\n",
       "      <th>1010598340</th>\n",
       "      <td>0</td>\n",
       "      <td>23</td>\n",
       "      <td>0</td>\n",
       "      <td>3</td>\n",
       "      <td>4832</td>\n",
       "      <td>0</td>\n",
       "      <td>4858</td>\n",
       "    </tr>\n",
       "    <tr>\n",
       "      <th>10120119131</th>\n",
       "      <td>0</td>\n",
       "      <td>348</td>\n",
       "      <td>0</td>\n",
       "      <td>0</td>\n",
       "      <td>1262</td>\n",
       "      <td>432</td>\n",
       "      <td>2042</td>\n",
       "    </tr>\n",
       "    <tr>\n",
       "      <th>1015608034</th>\n",
       "      <td>0</td>\n",
       "      <td>12</td>\n",
       "      <td>8</td>\n",
       "      <td>0</td>\n",
       "      <td>3441</td>\n",
       "      <td>70</td>\n",
       "      <td>3531</td>\n",
       "    </tr>\n",
       "    <tr>\n",
       "      <th>1016155105</th>\n",
       "      <td>0</td>\n",
       "      <td>289</td>\n",
       "      <td>0</td>\n",
       "      <td>300</td>\n",
       "      <td>2323</td>\n",
       "      <td>848</td>\n",
       "      <td>3760</td>\n",
       "    </tr>\n",
       "    <tr>\n",
       "      <th>1018172959</th>\n",
       "      <td>3</td>\n",
       "      <td>40</td>\n",
       "      <td>0</td>\n",
       "      <td>2</td>\n",
       "      <td>2735</td>\n",
       "      <td>40</td>\n",
       "      <td>2820</td>\n",
       "    </tr>\n",
       "  </tbody>\n",
       "</table>\n",
       "</div>"
      ],
      "text/plain": [
       "             Anger75  Disgust75  Fear75  Sadness75  Smile75  Surprise75  Sum75\n",
       "ID                                                                            \n",
       "1010598340         0         23       0          3     4832           0   4858\n",
       "10120119131        0        348       0          0     1262         432   2042\n",
       "1015608034         0         12       8          0     3441          70   3531\n",
       "1016155105         0        289       0        300     2323         848   3760\n",
       "1018172959         3         40       0          2     2735          40   2820"
      ]
     },
     "execution_count": 120,
     "metadata": {},
     "output_type": "execute_result"
    }
   ],
   "source": [
    "df_Bar75.head()"
   ]
  },
  {
   "cell_type": "markdown",
   "id": "parallel-staff",
   "metadata": {},
   "source": [
    "# Combine:"
   ]
  },
  {
   "cell_type": "code",
   "execution_count": 121,
   "id": "sacred-debut",
   "metadata": {},
   "outputs": [],
   "source": [
    "df_Frames = df_No_zeros.groupby('ID').count()[['FrameIndex']]"
   ]
  },
  {
   "cell_type": "code",
   "execution_count": 122,
   "id": "disturbed-catalyst",
   "metadata": {},
   "outputs": [],
   "source": [
    "df_Frames = df_Frames.rename(columns={\"FrameIndex\": \"Valid_frames_num\"})"
   ]
  },
  {
   "cell_type": "code",
   "execution_count": 123,
   "id": "ahead-thousand",
   "metadata": {},
   "outputs": [
    {
     "data": {
      "text/html": [
       "<div>\n",
       "<style scoped>\n",
       "    .dataframe tbody tr th:only-of-type {\n",
       "        vertical-align: middle;\n",
       "    }\n",
       "\n",
       "    .dataframe tbody tr th {\n",
       "        vertical-align: top;\n",
       "    }\n",
       "\n",
       "    .dataframe thead th {\n",
       "        text-align: right;\n",
       "    }\n",
       "</style>\n",
       "<table border=\"1\" class=\"dataframe\">\n",
       "  <thead>\n",
       "    <tr style=\"text-align: right;\">\n",
       "      <th></th>\n",
       "      <th>Valid_frames_num</th>\n",
       "    </tr>\n",
       "    <tr>\n",
       "      <th>ID</th>\n",
       "      <th></th>\n",
       "    </tr>\n",
       "  </thead>\n",
       "  <tbody>\n",
       "    <tr>\n",
       "      <th>1010598340</th>\n",
       "      <td>15253</td>\n",
       "    </tr>\n",
       "    <tr>\n",
       "      <th>10120119131</th>\n",
       "      <td>35817</td>\n",
       "    </tr>\n",
       "    <tr>\n",
       "      <th>1015608034</th>\n",
       "      <td>56963</td>\n",
       "    </tr>\n",
       "    <tr>\n",
       "      <th>1016155105</th>\n",
       "      <td>29700</td>\n",
       "    </tr>\n",
       "    <tr>\n",
       "      <th>1018172959</th>\n",
       "      <td>11876</td>\n",
       "    </tr>\n",
       "  </tbody>\n",
       "</table>\n",
       "</div>"
      ],
      "text/plain": [
       "             Valid_frames_num\n",
       "ID                           \n",
       "1010598340              15253\n",
       "10120119131             35817\n",
       "1015608034              56963\n",
       "1016155105              29700\n",
       "1018172959              11876"
      ]
     },
     "execution_count": 123,
     "metadata": {},
     "output_type": "execute_result"
    }
   ],
   "source": [
    "df_Frames.head()"
   ]
  },
  {
   "cell_type": "code",
   "execution_count": 124,
   "id": "regional-london",
   "metadata": {},
   "outputs": [],
   "source": [
    "Output = pd.merge(df_Frames ,df_Bar75 , how='outer', on='ID')"
   ]
  },
  {
   "cell_type": "code",
   "execution_count": 125,
   "id": "headed-margin",
   "metadata": {},
   "outputs": [
    {
     "data": {
      "text/html": [
       "<div>\n",
       "<style scoped>\n",
       "    .dataframe tbody tr th:only-of-type {\n",
       "        vertical-align: middle;\n",
       "    }\n",
       "\n",
       "    .dataframe tbody tr th {\n",
       "        vertical-align: top;\n",
       "    }\n",
       "\n",
       "    .dataframe thead th {\n",
       "        text-align: right;\n",
       "    }\n",
       "</style>\n",
       "<table border=\"1\" class=\"dataframe\">\n",
       "  <thead>\n",
       "    <tr style=\"text-align: right;\">\n",
       "      <th></th>\n",
       "      <th>Valid_frames_num</th>\n",
       "      <th>Anger75</th>\n",
       "      <th>Disgust75</th>\n",
       "      <th>Fear75</th>\n",
       "      <th>Sadness75</th>\n",
       "      <th>Smile75</th>\n",
       "      <th>Surprise75</th>\n",
       "      <th>Sum75</th>\n",
       "    </tr>\n",
       "    <tr>\n",
       "      <th>ID</th>\n",
       "      <th></th>\n",
       "      <th></th>\n",
       "      <th></th>\n",
       "      <th></th>\n",
       "      <th></th>\n",
       "      <th></th>\n",
       "      <th></th>\n",
       "      <th></th>\n",
       "    </tr>\n",
       "  </thead>\n",
       "  <tbody>\n",
       "    <tr>\n",
       "      <th>1010598340</th>\n",
       "      <td>15253</td>\n",
       "      <td>0</td>\n",
       "      <td>23</td>\n",
       "      <td>0</td>\n",
       "      <td>3</td>\n",
       "      <td>4832</td>\n",
       "      <td>0</td>\n",
       "      <td>4858</td>\n",
       "    </tr>\n",
       "    <tr>\n",
       "      <th>10120119131</th>\n",
       "      <td>35817</td>\n",
       "      <td>0</td>\n",
       "      <td>348</td>\n",
       "      <td>0</td>\n",
       "      <td>0</td>\n",
       "      <td>1262</td>\n",
       "      <td>432</td>\n",
       "      <td>2042</td>\n",
       "    </tr>\n",
       "    <tr>\n",
       "      <th>1015608034</th>\n",
       "      <td>56963</td>\n",
       "      <td>0</td>\n",
       "      <td>12</td>\n",
       "      <td>8</td>\n",
       "      <td>0</td>\n",
       "      <td>3441</td>\n",
       "      <td>70</td>\n",
       "      <td>3531</td>\n",
       "    </tr>\n",
       "    <tr>\n",
       "      <th>1016155105</th>\n",
       "      <td>29700</td>\n",
       "      <td>0</td>\n",
       "      <td>289</td>\n",
       "      <td>0</td>\n",
       "      <td>300</td>\n",
       "      <td>2323</td>\n",
       "      <td>848</td>\n",
       "      <td>3760</td>\n",
       "    </tr>\n",
       "    <tr>\n",
       "      <th>1018172959</th>\n",
       "      <td>11876</td>\n",
       "      <td>3</td>\n",
       "      <td>40</td>\n",
       "      <td>0</td>\n",
       "      <td>2</td>\n",
       "      <td>2735</td>\n",
       "      <td>40</td>\n",
       "      <td>2820</td>\n",
       "    </tr>\n",
       "  </tbody>\n",
       "</table>\n",
       "</div>"
      ],
      "text/plain": [
       "             Valid_frames_num  Anger75  Disgust75  Fear75  Sadness75  Smile75  \\\n",
       "ID                                                                              \n",
       "1010598340              15253        0         23       0          3     4832   \n",
       "10120119131             35817        0        348       0          0     1262   \n",
       "1015608034              56963        0         12       8          0     3441   \n",
       "1016155105              29700        0        289       0        300     2323   \n",
       "1018172959              11876        3         40       0          2     2735   \n",
       "\n",
       "             Surprise75  Sum75  \n",
       "ID                              \n",
       "1010598340            0   4858  \n",
       "10120119131         432   2042  \n",
       "1015608034           70   3531  \n",
       "1016155105          848   3760  \n",
       "1018172959           40   2820  "
      ]
     },
     "execution_count": 125,
     "metadata": {},
     "output_type": "execute_result"
    }
   ],
   "source": [
    "Output.head()"
   ]
  },
  {
   "cell_type": "code",
   "execution_count": 126,
   "id": "japanese-register",
   "metadata": {},
   "outputs": [],
   "source": [
    "Output2 = Output.iloc[:,1:8].apply(lambda x: x/Output[\"Valid_frames_num\"], axis=0)"
   ]
  },
  {
   "cell_type": "code",
   "execution_count": 127,
   "id": "affiliated-federal",
   "metadata": {},
   "outputs": [],
   "source": [
    "Output2 = Output2.reset_index()"
   ]
  },
  {
   "cell_type": "code",
   "execution_count": 128,
   "id": "optimum-deviation",
   "metadata": {},
   "outputs": [
    {
     "data": {
      "text/html": [
       "<div>\n",
       "<style scoped>\n",
       "    .dataframe tbody tr th:only-of-type {\n",
       "        vertical-align: middle;\n",
       "    }\n",
       "\n",
       "    .dataframe tbody tr th {\n",
       "        vertical-align: top;\n",
       "    }\n",
       "\n",
       "    .dataframe thead th {\n",
       "        text-align: right;\n",
       "    }\n",
       "</style>\n",
       "<table border=\"1\" class=\"dataframe\">\n",
       "  <thead>\n",
       "    <tr style=\"text-align: right;\">\n",
       "      <th></th>\n",
       "      <th>ID</th>\n",
       "      <th>Anger75</th>\n",
       "      <th>Disgust75</th>\n",
       "      <th>Fear75</th>\n",
       "      <th>Sadness75</th>\n",
       "      <th>Smile75</th>\n",
       "      <th>Surprise75</th>\n",
       "      <th>Sum75</th>\n",
       "    </tr>\n",
       "  </thead>\n",
       "  <tbody>\n",
       "    <tr>\n",
       "      <th>0</th>\n",
       "      <td>1010598340</td>\n",
       "      <td>0.000000</td>\n",
       "      <td>0.001508</td>\n",
       "      <td>0.00000</td>\n",
       "      <td>0.000197</td>\n",
       "      <td>0.316790</td>\n",
       "      <td>0.000000</td>\n",
       "      <td>0.318495</td>\n",
       "    </tr>\n",
       "    <tr>\n",
       "      <th>1</th>\n",
       "      <td>10120119131</td>\n",
       "      <td>0.000000</td>\n",
       "      <td>0.009716</td>\n",
       "      <td>0.00000</td>\n",
       "      <td>0.000000</td>\n",
       "      <td>0.035235</td>\n",
       "      <td>0.012061</td>\n",
       "      <td>0.057012</td>\n",
       "    </tr>\n",
       "    <tr>\n",
       "      <th>2</th>\n",
       "      <td>1015608034</td>\n",
       "      <td>0.000000</td>\n",
       "      <td>0.000211</td>\n",
       "      <td>0.00014</td>\n",
       "      <td>0.000000</td>\n",
       "      <td>0.060408</td>\n",
       "      <td>0.001229</td>\n",
       "      <td>0.061988</td>\n",
       "    </tr>\n",
       "    <tr>\n",
       "      <th>3</th>\n",
       "      <td>1016155105</td>\n",
       "      <td>0.000000</td>\n",
       "      <td>0.009731</td>\n",
       "      <td>0.00000</td>\n",
       "      <td>0.010101</td>\n",
       "      <td>0.078215</td>\n",
       "      <td>0.028552</td>\n",
       "      <td>0.126599</td>\n",
       "    </tr>\n",
       "    <tr>\n",
       "      <th>4</th>\n",
       "      <td>1018172959</td>\n",
       "      <td>0.000253</td>\n",
       "      <td>0.003368</td>\n",
       "      <td>0.00000</td>\n",
       "      <td>0.000168</td>\n",
       "      <td>0.230296</td>\n",
       "      <td>0.003368</td>\n",
       "      <td>0.237454</td>\n",
       "    </tr>\n",
       "  </tbody>\n",
       "</table>\n",
       "</div>"
      ],
      "text/plain": [
       "            ID   Anger75  Disgust75   Fear75  Sadness75   Smile75  Surprise75  \\\n",
       "0   1010598340  0.000000   0.001508  0.00000   0.000197  0.316790    0.000000   \n",
       "1  10120119131  0.000000   0.009716  0.00000   0.000000  0.035235    0.012061   \n",
       "2   1015608034  0.000000   0.000211  0.00014   0.000000  0.060408    0.001229   \n",
       "3   1016155105  0.000000   0.009731  0.00000   0.010101  0.078215    0.028552   \n",
       "4   1018172959  0.000253   0.003368  0.00000   0.000168  0.230296    0.003368   \n",
       "\n",
       "      Sum75  \n",
       "0  0.318495  \n",
       "1  0.057012  \n",
       "2  0.061988  \n",
       "3  0.126599  \n",
       "4  0.237454  "
      ]
     },
     "execution_count": 128,
     "metadata": {},
     "output_type": "execute_result"
    }
   ],
   "source": [
    "Output2.head()"
   ]
  },
  {
   "cell_type": "markdown",
   "id": "olive-emerald",
   "metadata": {},
   "source": [
    "# Marge to main"
   ]
  },
  {
   "cell_type": "code",
   "execution_count": 129,
   "id": "following-compound",
   "metadata": {},
   "outputs": [],
   "source": [
    "Output2['ID'] = pd.to_numeric(Output2['ID'])"
   ]
  },
  {
   "cell_type": "code",
   "execution_count": 130,
   "id": "handled-citation",
   "metadata": {},
   "outputs": [],
   "source": [
    "df_main = pd.merge(df_main ,Output2 , how='outer', on='ID')"
   ]
  },
  {
   "cell_type": "code",
   "execution_count": 131,
   "id": "noble-symphony",
   "metadata": {},
   "outputs": [
    {
     "data": {
      "text/html": [
       "<div>\n",
       "<style scoped>\n",
       "    .dataframe tbody tr th:only-of-type {\n",
       "        vertical-align: middle;\n",
       "    }\n",
       "\n",
       "    .dataframe tbody tr th {\n",
       "        vertical-align: top;\n",
       "    }\n",
       "\n",
       "    .dataframe thead th {\n",
       "        text-align: right;\n",
       "    }\n",
       "</style>\n",
       "<table border=\"1\" class=\"dataframe\">\n",
       "  <thead>\n",
       "    <tr style=\"text-align: right;\">\n",
       "      <th></th>\n",
       "      <th>ID</th>\n",
       "      <th>Group</th>\n",
       "      <th>Total_frames_num</th>\n",
       "      <th>Valid_frames_num</th>\n",
       "      <th>Frames_Percentage</th>\n",
       "      <th>Diff_Pitch</th>\n",
       "      <th>Diff_Roll</th>\n",
       "      <th>Diff_Yaw</th>\n",
       "      <th>Euclidean_distance_ASD_NT</th>\n",
       "      <th>Euclidean_distance_NT_NT</th>\n",
       "      <th>Anger75</th>\n",
       "      <th>Disgust75</th>\n",
       "      <th>Fear75</th>\n",
       "      <th>Sadness75</th>\n",
       "      <th>Smile75</th>\n",
       "      <th>Surprise75</th>\n",
       "      <th>Sum75</th>\n",
       "    </tr>\n",
       "  </thead>\n",
       "  <tbody>\n",
       "    <tr>\n",
       "      <th>0</th>\n",
       "      <td>673249918</td>\n",
       "      <td>0</td>\n",
       "      <td>85736</td>\n",
       "      <td>16471</td>\n",
       "      <td>0.192113</td>\n",
       "      <td>1.412543</td>\n",
       "      <td>1.420279</td>\n",
       "      <td>1.432545</td>\n",
       "      <td>27.920872</td>\n",
       "      <td>27.920872</td>\n",
       "      <td>0.000000</td>\n",
       "      <td>0.001336</td>\n",
       "      <td>0.000000</td>\n",
       "      <td>0.000121</td>\n",
       "      <td>0.076134</td>\n",
       "      <td>0.047295</td>\n",
       "      <td>0.124886</td>\n",
       "    </tr>\n",
       "    <tr>\n",
       "      <th>1</th>\n",
       "      <td>1021408222</td>\n",
       "      <td>0</td>\n",
       "      <td>90365</td>\n",
       "      <td>19580</td>\n",
       "      <td>0.216677</td>\n",
       "      <td>1.540340</td>\n",
       "      <td>1.761364</td>\n",
       "      <td>1.485873</td>\n",
       "      <td>46.611333</td>\n",
       "      <td>46.611333</td>\n",
       "      <td>0.001685</td>\n",
       "      <td>0.000919</td>\n",
       "      <td>0.000000</td>\n",
       "      <td>0.000000</td>\n",
       "      <td>0.089632</td>\n",
       "      <td>0.002809</td>\n",
       "      <td>0.095046</td>\n",
       "    </tr>\n",
       "    <tr>\n",
       "      <th>2</th>\n",
       "      <td>1019778562</td>\n",
       "      <td>0</td>\n",
       "      <td>111063</td>\n",
       "      <td>21325</td>\n",
       "      <td>0.192008</td>\n",
       "      <td>1.482536</td>\n",
       "      <td>1.816111</td>\n",
       "      <td>1.490298</td>\n",
       "      <td>22.355514</td>\n",
       "      <td>22.355514</td>\n",
       "      <td>0.001032</td>\n",
       "      <td>0.002626</td>\n",
       "      <td>0.000000</td>\n",
       "      <td>0.000188</td>\n",
       "      <td>0.110762</td>\n",
       "      <td>0.003189</td>\n",
       "      <td>0.117796</td>\n",
       "    </tr>\n",
       "    <tr>\n",
       "      <th>3</th>\n",
       "      <td>1021093597</td>\n",
       "      <td>0</td>\n",
       "      <td>82627</td>\n",
       "      <td>46000</td>\n",
       "      <td>0.556719</td>\n",
       "      <td>1.124373</td>\n",
       "      <td>1.295388</td>\n",
       "      <td>1.134773</td>\n",
       "      <td>21.763416</td>\n",
       "      <td>21.763416</td>\n",
       "      <td>0.000304</td>\n",
       "      <td>0.003826</td>\n",
       "      <td>0.000000</td>\n",
       "      <td>0.000000</td>\n",
       "      <td>0.127652</td>\n",
       "      <td>0.008065</td>\n",
       "      <td>0.139848</td>\n",
       "    </tr>\n",
       "    <tr>\n",
       "      <th>4</th>\n",
       "      <td>669779629</td>\n",
       "      <td>0</td>\n",
       "      <td>104995</td>\n",
       "      <td>24678</td>\n",
       "      <td>0.235040</td>\n",
       "      <td>1.338867</td>\n",
       "      <td>1.550114</td>\n",
       "      <td>1.518380</td>\n",
       "      <td>18.300407</td>\n",
       "      <td>18.300407</td>\n",
       "      <td>0.000000</td>\n",
       "      <td>0.001499</td>\n",
       "      <td>0.000932</td>\n",
       "      <td>0.000000</td>\n",
       "      <td>0.221169</td>\n",
       "      <td>0.001661</td>\n",
       "      <td>0.225261</td>\n",
       "    </tr>\n",
       "  </tbody>\n",
       "</table>\n",
       "</div>"
      ],
      "text/plain": [
       "           ID  Group  Total_frames_num  Valid_frames_num  Frames_Percentage  \\\n",
       "0   673249918      0             85736             16471           0.192113   \n",
       "1  1021408222      0             90365             19580           0.216677   \n",
       "2  1019778562      0            111063             21325           0.192008   \n",
       "3  1021093597      0             82627             46000           0.556719   \n",
       "4   669779629      0            104995             24678           0.235040   \n",
       "\n",
       "   Diff_Pitch  Diff_Roll  Diff_Yaw  Euclidean_distance_ASD_NT  \\\n",
       "0    1.412543   1.420279  1.432545                  27.920872   \n",
       "1    1.540340   1.761364  1.485873                  46.611333   \n",
       "2    1.482536   1.816111  1.490298                  22.355514   \n",
       "3    1.124373   1.295388  1.134773                  21.763416   \n",
       "4    1.338867   1.550114  1.518380                  18.300407   \n",
       "\n",
       "   Euclidean_distance_NT_NT   Anger75  Disgust75    Fear75  Sadness75  \\\n",
       "0                 27.920872  0.000000   0.001336  0.000000   0.000121   \n",
       "1                 46.611333  0.001685   0.000919  0.000000   0.000000   \n",
       "2                 22.355514  0.001032   0.002626  0.000000   0.000188   \n",
       "3                 21.763416  0.000304   0.003826  0.000000   0.000000   \n",
       "4                 18.300407  0.000000   0.001499  0.000932   0.000000   \n",
       "\n",
       "    Smile75  Surprise75     Sum75  \n",
       "0  0.076134    0.047295  0.124886  \n",
       "1  0.089632    0.002809  0.095046  \n",
       "2  0.110762    0.003189  0.117796  \n",
       "3  0.127652    0.008065  0.139848  \n",
       "4  0.221169    0.001661  0.225261  "
      ]
     },
     "execution_count": 131,
     "metadata": {},
     "output_type": "execute_result"
    }
   ],
   "source": [
    "df_main.head()"
   ]
  },
  {
   "cell_type": "markdown",
   "id": "defensive-azerbaijan",
   "metadata": {},
   "source": [
    "#     "
   ]
  },
  {
   "cell_type": "markdown",
   "id": "precise-material",
   "metadata": {},
   "source": [
    "   \n",
    "   \n",
    "   "
   ]
  },
  {
   "cell_type": "markdown",
   "id": "employed-pacific",
   "metadata": {},
   "source": [
    "## 5. Average amount of Smiles above 75 & Average duration of Smiles above 75"
   ]
  },
  {
   "cell_type": "code",
   "execution_count": 132,
   "id": "engaging-maine",
   "metadata": {},
   "outputs": [],
   "source": [
    "df = pd.read_csv('Full_Fixed_File.csv') # read the file after interpolation"
   ]
  },
  {
   "cell_type": "code",
   "execution_count": 133,
   "id": "hydraulic-projection",
   "metadata": {},
   "outputs": [
    {
     "data": {
      "text/html": [
       "<div>\n",
       "<style scoped>\n",
       "    .dataframe tbody tr th:only-of-type {\n",
       "        vertical-align: middle;\n",
       "    }\n",
       "\n",
       "    .dataframe tbody tr th {\n",
       "        vertical-align: top;\n",
       "    }\n",
       "\n",
       "    .dataframe thead th {\n",
       "        text-align: right;\n",
       "    }\n",
       "</style>\n",
       "<table border=\"1\" class=\"dataframe\">\n",
       "  <thead>\n",
       "    <tr style=\"text-align: right;\">\n",
       "      <th></th>\n",
       "      <th>Unnamed: 0</th>\n",
       "      <th>ID</th>\n",
       "      <th>MediaTime</th>\n",
       "      <th>FrameIndex</th>\n",
       "      <th>Anger</th>\n",
       "      <th>Disgust</th>\n",
       "      <th>Fear</th>\n",
       "      <th>Sadness</th>\n",
       "      <th>Smile</th>\n",
       "      <th>Surprise</th>\n",
       "    </tr>\n",
       "  </thead>\n",
       "  <tbody>\n",
       "    <tr>\n",
       "      <th>0</th>\n",
       "      <td>0</td>\n",
       "      <td>10212252882</td>\n",
       "      <td>NaN</td>\n",
       "      <td>0</td>\n",
       "      <td>0.0</td>\n",
       "      <td>0.0</td>\n",
       "      <td>0.0</td>\n",
       "      <td>0.0</td>\n",
       "      <td>0.0</td>\n",
       "      <td>0.0</td>\n",
       "    </tr>\n",
       "    <tr>\n",
       "      <th>1</th>\n",
       "      <td>1</td>\n",
       "      <td>10212252882</td>\n",
       "      <td>NaN</td>\n",
       "      <td>1</td>\n",
       "      <td>0.0</td>\n",
       "      <td>0.0</td>\n",
       "      <td>0.0</td>\n",
       "      <td>0.0</td>\n",
       "      <td>0.0</td>\n",
       "      <td>0.0</td>\n",
       "    </tr>\n",
       "    <tr>\n",
       "      <th>2</th>\n",
       "      <td>2</td>\n",
       "      <td>10212252882</td>\n",
       "      <td>NaN</td>\n",
       "      <td>2</td>\n",
       "      <td>0.0</td>\n",
       "      <td>0.0</td>\n",
       "      <td>0.0</td>\n",
       "      <td>0.0</td>\n",
       "      <td>0.0</td>\n",
       "      <td>0.0</td>\n",
       "    </tr>\n",
       "    <tr>\n",
       "      <th>3</th>\n",
       "      <td>3</td>\n",
       "      <td>10212252882</td>\n",
       "      <td>NaN</td>\n",
       "      <td>3</td>\n",
       "      <td>0.0</td>\n",
       "      <td>0.0</td>\n",
       "      <td>0.0</td>\n",
       "      <td>0.0</td>\n",
       "      <td>0.0</td>\n",
       "      <td>0.0</td>\n",
       "    </tr>\n",
       "    <tr>\n",
       "      <th>4</th>\n",
       "      <td>4</td>\n",
       "      <td>10212252882</td>\n",
       "      <td>NaN</td>\n",
       "      <td>4</td>\n",
       "      <td>0.0</td>\n",
       "      <td>0.0</td>\n",
       "      <td>0.0</td>\n",
       "      <td>0.0</td>\n",
       "      <td>0.0</td>\n",
       "      <td>0.0</td>\n",
       "    </tr>\n",
       "    <tr>\n",
       "      <th>...</th>\n",
       "      <td>...</td>\n",
       "      <td>...</td>\n",
       "      <td>...</td>\n",
       "      <td>...</td>\n",
       "      <td>...</td>\n",
       "      <td>...</td>\n",
       "      <td>...</td>\n",
       "      <td>...</td>\n",
       "      <td>...</td>\n",
       "      <td>...</td>\n",
       "    </tr>\n",
       "    <tr>\n",
       "      <th>4090774</th>\n",
       "      <td>4090774</td>\n",
       "      <td>1015608034</td>\n",
       "      <td>NaN</td>\n",
       "      <td>91654</td>\n",
       "      <td>0.0</td>\n",
       "      <td>0.0</td>\n",
       "      <td>0.0</td>\n",
       "      <td>0.0</td>\n",
       "      <td>0.0</td>\n",
       "      <td>0.0</td>\n",
       "    </tr>\n",
       "    <tr>\n",
       "      <th>4090775</th>\n",
       "      <td>4090775</td>\n",
       "      <td>1015608034</td>\n",
       "      <td>NaN</td>\n",
       "      <td>91655</td>\n",
       "      <td>0.0</td>\n",
       "      <td>0.0</td>\n",
       "      <td>0.0</td>\n",
       "      <td>0.0</td>\n",
       "      <td>0.0</td>\n",
       "      <td>0.0</td>\n",
       "    </tr>\n",
       "    <tr>\n",
       "      <th>4090776</th>\n",
       "      <td>4090776</td>\n",
       "      <td>1015608034</td>\n",
       "      <td>NaN</td>\n",
       "      <td>91656</td>\n",
       "      <td>0.0</td>\n",
       "      <td>0.0</td>\n",
       "      <td>0.0</td>\n",
       "      <td>0.0</td>\n",
       "      <td>0.0</td>\n",
       "      <td>0.0</td>\n",
       "    </tr>\n",
       "    <tr>\n",
       "      <th>4090777</th>\n",
       "      <td>4090777</td>\n",
       "      <td>1015608034</td>\n",
       "      <td>NaN</td>\n",
       "      <td>91657</td>\n",
       "      <td>0.0</td>\n",
       "      <td>0.0</td>\n",
       "      <td>0.0</td>\n",
       "      <td>0.0</td>\n",
       "      <td>0.0</td>\n",
       "      <td>0.0</td>\n",
       "    </tr>\n",
       "    <tr>\n",
       "      <th>4090778</th>\n",
       "      <td>4090778</td>\n",
       "      <td>1015608034</td>\n",
       "      <td>NaN</td>\n",
       "      <td>91658</td>\n",
       "      <td>0.0</td>\n",
       "      <td>0.0</td>\n",
       "      <td>0.0</td>\n",
       "      <td>0.0</td>\n",
       "      <td>0.0</td>\n",
       "      <td>0.0</td>\n",
       "    </tr>\n",
       "  </tbody>\n",
       "</table>\n",
       "<p>4090779 rows × 10 columns</p>\n",
       "</div>"
      ],
      "text/plain": [
       "         Unnamed: 0           ID  MediaTime  FrameIndex  Anger  Disgust  Fear  \\\n",
       "0                 0  10212252882        NaN           0    0.0      0.0   0.0   \n",
       "1                 1  10212252882        NaN           1    0.0      0.0   0.0   \n",
       "2                 2  10212252882        NaN           2    0.0      0.0   0.0   \n",
       "3                 3  10212252882        NaN           3    0.0      0.0   0.0   \n",
       "4                 4  10212252882        NaN           4    0.0      0.0   0.0   \n",
       "...             ...          ...        ...         ...    ...      ...   ...   \n",
       "4090774     4090774   1015608034        NaN       91654    0.0      0.0   0.0   \n",
       "4090775     4090775   1015608034        NaN       91655    0.0      0.0   0.0   \n",
       "4090776     4090776   1015608034        NaN       91656    0.0      0.0   0.0   \n",
       "4090777     4090777   1015608034        NaN       91657    0.0      0.0   0.0   \n",
       "4090778     4090778   1015608034        NaN       91658    0.0      0.0   0.0   \n",
       "\n",
       "         Sadness  Smile  Surprise  \n",
       "0            0.0    0.0       0.0  \n",
       "1            0.0    0.0       0.0  \n",
       "2            0.0    0.0       0.0  \n",
       "3            0.0    0.0       0.0  \n",
       "4            0.0    0.0       0.0  \n",
       "...          ...    ...       ...  \n",
       "4090774      0.0    0.0       0.0  \n",
       "4090775      0.0    0.0       0.0  \n",
       "4090776      0.0    0.0       0.0  \n",
       "4090777      0.0    0.0       0.0  \n",
       "4090778      0.0    0.0       0.0  \n",
       "\n",
       "[4090779 rows x 10 columns]"
      ]
     },
     "execution_count": 133,
     "metadata": {},
     "output_type": "execute_result"
    }
   ],
   "source": [
    "df"
   ]
  },
  {
   "cell_type": "code",
   "execution_count": 134,
   "id": "dependent-louisville",
   "metadata": {},
   "outputs": [
    {
     "data": {
      "text/plain": [
       "(4090779, 10)"
      ]
     },
     "execution_count": 134,
     "metadata": {},
     "output_type": "execute_result"
    }
   ],
   "source": [
    "df.shape"
   ]
  },
  {
   "cell_type": "code",
   "execution_count": 135,
   "id": "cognitive-substitute",
   "metadata": {},
   "outputs": [],
   "source": [
    "df['Smile_75'] = np.where(df.Smile > 75, 1, 0) # create bar=75 column for smile"
   ]
  },
  {
   "cell_type": "code",
   "execution_count": 136,
   "id": "proof-diana",
   "metadata": {},
   "outputs": [],
   "source": [
    "# two help columns to couns the smile number and seg of smile\n",
    "df['Smile_75_num'] = \"\"   # row[11]\n",
    "df['Smile_75_seq'] = \"\"   # row[12]"
   ]
  },
  {
   "cell_type": "code",
   "execution_count": 137,
   "id": "increased-rotation",
   "metadata": {},
   "outputs": [
    {
     "data": {
      "text/html": [
       "<div>\n",
       "<style scoped>\n",
       "    .dataframe tbody tr th:only-of-type {\n",
       "        vertical-align: middle;\n",
       "    }\n",
       "\n",
       "    .dataframe tbody tr th {\n",
       "        vertical-align: top;\n",
       "    }\n",
       "\n",
       "    .dataframe thead th {\n",
       "        text-align: right;\n",
       "    }\n",
       "</style>\n",
       "<table border=\"1\" class=\"dataframe\">\n",
       "  <thead>\n",
       "    <tr style=\"text-align: right;\">\n",
       "      <th></th>\n",
       "      <th>Smile_75</th>\n",
       "    </tr>\n",
       "    <tr>\n",
       "      <th>ID</th>\n",
       "      <th></th>\n",
       "    </tr>\n",
       "  </thead>\n",
       "  <tbody>\n",
       "    <tr>\n",
       "      <th>664255171</th>\n",
       "      <td>103.500000</td>\n",
       "    </tr>\n",
       "    <tr>\n",
       "      <th>664308115</th>\n",
       "      <td>28.033333</td>\n",
       "    </tr>\n",
       "    <tr>\n",
       "      <th>666238693</th>\n",
       "      <td>28.633333</td>\n",
       "    </tr>\n",
       "    <tr>\n",
       "      <th>666682207</th>\n",
       "      <td>513.566667</td>\n",
       "    </tr>\n",
       "    <tr>\n",
       "      <th>666778936</th>\n",
       "      <td>425.766667</td>\n",
       "    </tr>\n",
       "    <tr>\n",
       "      <th>666789877</th>\n",
       "      <td>179.200000</td>\n",
       "    </tr>\n",
       "    <tr>\n",
       "      <th>666796231</th>\n",
       "      <td>29.100000</td>\n",
       "    </tr>\n",
       "    <tr>\n",
       "      <th>666804703</th>\n",
       "      <td>90.833333</td>\n",
       "    </tr>\n",
       "    <tr>\n",
       "      <th>666830041</th>\n",
       "      <td>92.466667</td>\n",
       "    </tr>\n",
       "    <tr>\n",
       "      <th>666853903</th>\n",
       "      <td>53.733333</td>\n",
       "    </tr>\n",
       "    <tr>\n",
       "      <th>667854793</th>\n",
       "      <td>12.600000</td>\n",
       "    </tr>\n",
       "    <tr>\n",
       "      <th>669779629</th>\n",
       "      <td>184.033333</td>\n",
       "    </tr>\n",
       "    <tr>\n",
       "      <th>669916810</th>\n",
       "      <td>71.833333</td>\n",
       "    </tr>\n",
       "    <tr>\n",
       "      <th>672652306</th>\n",
       "      <td>26.466667</td>\n",
       "    </tr>\n",
       "    <tr>\n",
       "      <th>672918520</th>\n",
       "      <td>13.433333</td>\n",
       "    </tr>\n",
       "    <tr>\n",
       "      <th>673070956</th>\n",
       "      <td>200.133333</td>\n",
       "    </tr>\n",
       "    <tr>\n",
       "      <th>673140628</th>\n",
       "      <td>46.566667</td>\n",
       "    </tr>\n",
       "    <tr>\n",
       "      <th>673249918</th>\n",
       "      <td>43.600000</td>\n",
       "    </tr>\n",
       "    <tr>\n",
       "      <th>673262992</th>\n",
       "      <td>68.933333</td>\n",
       "    </tr>\n",
       "    <tr>\n",
       "      <th>673950985</th>\n",
       "      <td>134.066667</td>\n",
       "    </tr>\n",
       "    <tr>\n",
       "      <th>675350128</th>\n",
       "      <td>15.533333</td>\n",
       "    </tr>\n",
       "    <tr>\n",
       "      <th>675820756</th>\n",
       "      <td>68.766667</td>\n",
       "    </tr>\n",
       "    <tr>\n",
       "      <th>675883867</th>\n",
       "      <td>15.400000</td>\n",
       "    </tr>\n",
       "    <tr>\n",
       "      <th>991175281</th>\n",
       "      <td>56.066667</td>\n",
       "    </tr>\n",
       "    <tr>\n",
       "      <th>1010598340</th>\n",
       "      <td>162.200000</td>\n",
       "    </tr>\n",
       "    <tr>\n",
       "      <th>1015608034</th>\n",
       "      <td>119.400000</td>\n",
       "    </tr>\n",
       "    <tr>\n",
       "      <th>1016155105</th>\n",
       "      <td>79.666667</td>\n",
       "    </tr>\n",
       "    <tr>\n",
       "      <th>1018172959</th>\n",
       "      <td>95.466667</td>\n",
       "    </tr>\n",
       "    <tr>\n",
       "      <th>1019519254</th>\n",
       "      <td>550.933333</td>\n",
       "    </tr>\n",
       "    <tr>\n",
       "      <th>1019778562</th>\n",
       "      <td>80.900000</td>\n",
       "    </tr>\n",
       "    <tr>\n",
       "      <th>1020232399</th>\n",
       "      <td>17.766667</td>\n",
       "    </tr>\n",
       "    <tr>\n",
       "      <th>1021093597</th>\n",
       "      <td>199.800000</td>\n",
       "    </tr>\n",
       "    <tr>\n",
       "      <th>1021220041</th>\n",
       "      <td>10.566667</td>\n",
       "    </tr>\n",
       "    <tr>\n",
       "      <th>1021230469</th>\n",
       "      <td>247.600000</td>\n",
       "    </tr>\n",
       "    <tr>\n",
       "      <th>1021254988</th>\n",
       "      <td>80.033333</td>\n",
       "    </tr>\n",
       "    <tr>\n",
       "      <th>1021315504</th>\n",
       "      <td>18.866667</td>\n",
       "    </tr>\n",
       "    <tr>\n",
       "      <th>1021404736</th>\n",
       "      <td>515.333333</td>\n",
       "    </tr>\n",
       "    <tr>\n",
       "      <th>1021408222</th>\n",
       "      <td>61.100000</td>\n",
       "    </tr>\n",
       "    <tr>\n",
       "      <th>1021779079</th>\n",
       "      <td>25.500000</td>\n",
       "    </tr>\n",
       "    <tr>\n",
       "      <th>1021784743</th>\n",
       "      <td>54.933333</td>\n",
       "    </tr>\n",
       "    <tr>\n",
       "      <th>1022031991</th>\n",
       "      <td>25.833333</td>\n",
       "    </tr>\n",
       "    <tr>\n",
       "      <th>10120119131</th>\n",
       "      <td>44.833333</td>\n",
       "    </tr>\n",
       "    <tr>\n",
       "      <th>10211357472</th>\n",
       "      <td>81.800000</td>\n",
       "    </tr>\n",
       "    <tr>\n",
       "      <th>10212252882</th>\n",
       "      <td>44.666667</td>\n",
       "    </tr>\n",
       "  </tbody>\n",
       "</table>\n",
       "</div>"
      ],
      "text/plain": [
       "               Smile_75\n",
       "ID                     \n",
       "664255171    103.500000\n",
       "664308115     28.033333\n",
       "666238693     28.633333\n",
       "666682207    513.566667\n",
       "666778936    425.766667\n",
       "666789877    179.200000\n",
       "666796231     29.100000\n",
       "666804703     90.833333\n",
       "666830041     92.466667\n",
       "666853903     53.733333\n",
       "667854793     12.600000\n",
       "669779629    184.033333\n",
       "669916810     71.833333\n",
       "672652306     26.466667\n",
       "672918520     13.433333\n",
       "673070956    200.133333\n",
       "673140628     46.566667\n",
       "673249918     43.600000\n",
       "673262992     68.933333\n",
       "673950985    134.066667\n",
       "675350128     15.533333\n",
       "675820756     68.766667\n",
       "675883867     15.400000\n",
       "991175281     56.066667\n",
       "1010598340   162.200000\n",
       "1015608034   119.400000\n",
       "1016155105    79.666667\n",
       "1018172959    95.466667\n",
       "1019519254   550.933333\n",
       "1019778562    80.900000\n",
       "1020232399    17.766667\n",
       "1021093597   199.800000\n",
       "1021220041    10.566667\n",
       "1021230469   247.600000\n",
       "1021254988    80.033333\n",
       "1021315504    18.866667\n",
       "1021404736   515.333333\n",
       "1021408222    61.100000\n",
       "1021779079    25.500000\n",
       "1021784743    54.933333\n",
       "1022031991    25.833333\n",
       "10120119131   44.833333\n",
       "10211357472   81.800000\n",
       "10212252882   44.666667"
      ]
     },
     "execution_count": 137,
     "metadata": {},
     "output_type": "execute_result"
    }
   ],
   "source": [
    "#df_smile_time = \n",
    "df.groupby('ID').sum().iloc[:,9:10]/30 # amount of time(in sec) child smile during the video "
   ]
  },
  {
   "cell_type": "code",
   "execution_count": 138,
   "id": "about-madrid",
   "metadata": {},
   "outputs": [
    {
     "name": "stdout",
     "output_type": "stream",
     "text": [
      "<class 'pandas.core.frame.DataFrame'>\n",
      "RangeIndex: 4090779 entries, 0 to 4090778\n",
      "Data columns (total 13 columns):\n",
      " #   Column        Dtype  \n",
      "---  ------        -----  \n",
      " 0   Unnamed: 0    int64  \n",
      " 1   ID            int64  \n",
      " 2   MediaTime     float64\n",
      " 3   FrameIndex    int64  \n",
      " 4   Anger         float64\n",
      " 5   Disgust       float64\n",
      " 6   Fear          float64\n",
      " 7   Sadness       float64\n",
      " 8   Smile         float64\n",
      " 9   Surprise      float64\n",
      " 10  Smile_75      int32  \n",
      " 11  Smile_75_num  object \n",
      " 12  Smile_75_seq  object \n",
      "dtypes: float64(7), int32(1), int64(3), object(2)\n",
      "memory usage: 390.1+ MB\n"
     ]
    }
   ],
   "source": [
    "df.info()"
   ]
  },
  {
   "cell_type": "code",
   "execution_count": 139,
   "id": "white-novelty",
   "metadata": {},
   "outputs": [],
   "source": [
    "array = df.to_numpy() # transforming the df to arrey"
   ]
  },
  {
   "cell_type": "code",
   "execution_count": 140,
   "id": "peaceful-individual",
   "metadata": {},
   "outputs": [],
   "source": [
    "ID_num = array[0][1] # first ID is the first child in the array\n",
    "frame_count = 0 # for the smiles\n",
    "smile_num = 1 # starting with first smile\n",
    "\n",
    "for row in array:\n",
    "    if row[1] != ID_num: # new kid\n",
    "        frame_count = 0\n",
    "        smile_num = 1\n",
    "        ID_num = row[1]\n",
    "        \n",
    "    if row[10] < 1: #not a smile\n",
    "        if frame_count != 0:  #we were in the middle of a smile - need to reset\n",
    "            frame_count = 0\n",
    "            smile_num = smile_num +1\n",
    "        row[11] = 0\n",
    "        row[12] = 0\n",
    "    \n",
    "    else: #smile\n",
    "        row[11] = smile_num\n",
    "        frame_count = frame_count +1 # so the frame counter will start from 1\n",
    "        row[12] = frame_count"
   ]
  },
  {
   "cell_type": "code",
   "execution_count": 141,
   "id": "understood-people",
   "metadata": {},
   "outputs": [],
   "source": [
    "# create new df with rellevant columns\n",
    "df_smilez= pd.DataFrame({'ID': array[:, 1], 'Smile': array[:, 8], 'Smile_75': array[:, 10], 'Smile_num': array[:, 11], 'Smile_duration': array[:, 12]})"
   ]
  },
  {
   "cell_type": "code",
   "execution_count": 142,
   "id": "standard-alpha",
   "metadata": {},
   "outputs": [
    {
     "data": {
      "text/plain": [
       "(4090779, 5)"
      ]
     },
     "execution_count": 142,
     "metadata": {},
     "output_type": "execute_result"
    }
   ],
   "source": [
    "df_smilez.shape"
   ]
  },
  {
   "cell_type": "code",
   "execution_count": 143,
   "id": "serious-terrain",
   "metadata": {},
   "outputs": [
    {
     "data": {
      "text/html": [
       "<div>\n",
       "<style scoped>\n",
       "    .dataframe tbody tr th:only-of-type {\n",
       "        vertical-align: middle;\n",
       "    }\n",
       "\n",
       "    .dataframe tbody tr th {\n",
       "        vertical-align: top;\n",
       "    }\n",
       "\n",
       "    .dataframe thead th {\n",
       "        text-align: right;\n",
       "    }\n",
       "</style>\n",
       "<table border=\"1\" class=\"dataframe\">\n",
       "  <thead>\n",
       "    <tr style=\"text-align: right;\">\n",
       "      <th></th>\n",
       "      <th>ID</th>\n",
       "      <th>Smile</th>\n",
       "      <th>Smile_75</th>\n",
       "      <th>Smile_num</th>\n",
       "      <th>Smile_duration</th>\n",
       "    </tr>\n",
       "  </thead>\n",
       "  <tbody>\n",
       "    <tr>\n",
       "      <th>0</th>\n",
       "      <td>10212252882</td>\n",
       "      <td>0.0</td>\n",
       "      <td>0</td>\n",
       "      <td>0</td>\n",
       "      <td>0</td>\n",
       "    </tr>\n",
       "    <tr>\n",
       "      <th>1</th>\n",
       "      <td>10212252882</td>\n",
       "      <td>0.0</td>\n",
       "      <td>0</td>\n",
       "      <td>0</td>\n",
       "      <td>0</td>\n",
       "    </tr>\n",
       "    <tr>\n",
       "      <th>2</th>\n",
       "      <td>10212252882</td>\n",
       "      <td>0.0</td>\n",
       "      <td>0</td>\n",
       "      <td>0</td>\n",
       "      <td>0</td>\n",
       "    </tr>\n",
       "    <tr>\n",
       "      <th>3</th>\n",
       "      <td>10212252882</td>\n",
       "      <td>0.0</td>\n",
       "      <td>0</td>\n",
       "      <td>0</td>\n",
       "      <td>0</td>\n",
       "    </tr>\n",
       "    <tr>\n",
       "      <th>4</th>\n",
       "      <td>10212252882</td>\n",
       "      <td>0.0</td>\n",
       "      <td>0</td>\n",
       "      <td>0</td>\n",
       "      <td>0</td>\n",
       "    </tr>\n",
       "  </tbody>\n",
       "</table>\n",
       "</div>"
      ],
      "text/plain": [
       "            ID Smile Smile_75 Smile_num Smile_duration\n",
       "0  10212252882   0.0        0         0              0\n",
       "1  10212252882   0.0        0         0              0\n",
       "2  10212252882   0.0        0         0              0\n",
       "3  10212252882   0.0        0         0              0\n",
       "4  10212252882   0.0        0         0              0"
      ]
     },
     "execution_count": 143,
     "metadata": {},
     "output_type": "execute_result"
    }
   ],
   "source": [
    "df_smilez.head()"
   ]
  },
  {
   "cell_type": "markdown",
   "id": "potential-queue",
   "metadata": {},
   "source": [
    "### Smiles Count"
   ]
  },
  {
   "cell_type": "code",
   "execution_count": 144,
   "id": "obvious-paraguay",
   "metadata": {},
   "outputs": [],
   "source": [
    "df_count = df_smilez.groupby('ID').max()"
   ]
  },
  {
   "cell_type": "code",
   "execution_count": 145,
   "id": "sensitive-characterization",
   "metadata": {},
   "outputs": [],
   "source": [
    "df_count.reset_index(inplace=True)"
   ]
  },
  {
   "cell_type": "code",
   "execution_count": 146,
   "id": "young-distributor",
   "metadata": {},
   "outputs": [
    {
     "data": {
      "text/html": [
       "<div>\n",
       "<style scoped>\n",
       "    .dataframe tbody tr th:only-of-type {\n",
       "        vertical-align: middle;\n",
       "    }\n",
       "\n",
       "    .dataframe tbody tr th {\n",
       "        vertical-align: top;\n",
       "    }\n",
       "\n",
       "    .dataframe thead th {\n",
       "        text-align: right;\n",
       "    }\n",
       "</style>\n",
       "<table border=\"1\" class=\"dataframe\">\n",
       "  <thead>\n",
       "    <tr style=\"text-align: right;\">\n",
       "      <th></th>\n",
       "      <th>ID</th>\n",
       "      <th>Smile</th>\n",
       "      <th>Smile_75</th>\n",
       "      <th>Smile_num</th>\n",
       "      <th>Smile_duration</th>\n",
       "    </tr>\n",
       "  </thead>\n",
       "  <tbody>\n",
       "    <tr>\n",
       "      <th>0</th>\n",
       "      <td>664255171</td>\n",
       "      <td>99.96245</td>\n",
       "      <td>1.0</td>\n",
       "      <td>98.0</td>\n",
       "      <td>172.0</td>\n",
       "    </tr>\n",
       "    <tr>\n",
       "      <th>1</th>\n",
       "      <td>664308115</td>\n",
       "      <td>99.97299</td>\n",
       "      <td>1.0</td>\n",
       "      <td>35.0</td>\n",
       "      <td>93.0</td>\n",
       "    </tr>\n",
       "    <tr>\n",
       "      <th>2</th>\n",
       "      <td>666238693</td>\n",
       "      <td>100.00000</td>\n",
       "      <td>1.0</td>\n",
       "      <td>32.0</td>\n",
       "      <td>214.0</td>\n",
       "    </tr>\n",
       "    <tr>\n",
       "      <th>3</th>\n",
       "      <td>666682207</td>\n",
       "      <td>100.00000</td>\n",
       "      <td>1.0</td>\n",
       "      <td>229.0</td>\n",
       "      <td>682.0</td>\n",
       "    </tr>\n",
       "    <tr>\n",
       "      <th>4</th>\n",
       "      <td>666778936</td>\n",
       "      <td>100.00000</td>\n",
       "      <td>1.0</td>\n",
       "      <td>284.0</td>\n",
       "      <td>703.0</td>\n",
       "    </tr>\n",
       "  </tbody>\n",
       "</table>\n",
       "</div>"
      ],
      "text/plain": [
       "          ID      Smile  Smile_75  Smile_num  Smile_duration\n",
       "0  664255171   99.96245       1.0       98.0           172.0\n",
       "1  664308115   99.97299       1.0       35.0            93.0\n",
       "2  666238693  100.00000       1.0       32.0           214.0\n",
       "3  666682207  100.00000       1.0      229.0           682.0\n",
       "4  666778936  100.00000       1.0      284.0           703.0"
      ]
     },
     "execution_count": 146,
     "metadata": {},
     "output_type": "execute_result"
    }
   ],
   "source": [
    "df_count.head()"
   ]
  },
  {
   "cell_type": "code",
   "execution_count": 147,
   "id": "behind-denial",
   "metadata": {},
   "outputs": [],
   "source": [
    "df_count = df_count[['ID'] + ['Smile_num']]"
   ]
  },
  {
   "cell_type": "code",
   "execution_count": 148,
   "id": "controlled-crest",
   "metadata": {},
   "outputs": [
    {
     "data": {
      "text/html": [
       "<div>\n",
       "<style scoped>\n",
       "    .dataframe tbody tr th:only-of-type {\n",
       "        vertical-align: middle;\n",
       "    }\n",
       "\n",
       "    .dataframe tbody tr th {\n",
       "        vertical-align: top;\n",
       "    }\n",
       "\n",
       "    .dataframe thead th {\n",
       "        text-align: right;\n",
       "    }\n",
       "</style>\n",
       "<table border=\"1\" class=\"dataframe\">\n",
       "  <thead>\n",
       "    <tr style=\"text-align: right;\">\n",
       "      <th></th>\n",
       "      <th>ID</th>\n",
       "      <th>Smile_num</th>\n",
       "    </tr>\n",
       "  </thead>\n",
       "  <tbody>\n",
       "    <tr>\n",
       "      <th>0</th>\n",
       "      <td>664255171</td>\n",
       "      <td>98.0</td>\n",
       "    </tr>\n",
       "    <tr>\n",
       "      <th>1</th>\n",
       "      <td>664308115</td>\n",
       "      <td>35.0</td>\n",
       "    </tr>\n",
       "    <tr>\n",
       "      <th>2</th>\n",
       "      <td>666238693</td>\n",
       "      <td>32.0</td>\n",
       "    </tr>\n",
       "    <tr>\n",
       "      <th>3</th>\n",
       "      <td>666682207</td>\n",
       "      <td>229.0</td>\n",
       "    </tr>\n",
       "    <tr>\n",
       "      <th>4</th>\n",
       "      <td>666778936</td>\n",
       "      <td>284.0</td>\n",
       "    </tr>\n",
       "  </tbody>\n",
       "</table>\n",
       "</div>"
      ],
      "text/plain": [
       "          ID  Smile_num\n",
       "0  664255171       98.0\n",
       "1  664308115       35.0\n",
       "2  666238693       32.0\n",
       "3  666682207      229.0\n",
       "4  666778936      284.0"
      ]
     },
     "execution_count": 148,
     "metadata": {},
     "output_type": "execute_result"
    }
   ],
   "source": [
    "df_count.head()"
   ]
  },
  {
   "cell_type": "markdown",
   "id": "mighty-blood",
   "metadata": {},
   "source": [
    "Comb with results"
   ]
  },
  {
   "cell_type": "code",
   "execution_count": 149,
   "id": "varied-passenger",
   "metadata": {},
   "outputs": [],
   "source": [
    "df_main['ID'] = pd.to_numeric(df_main['ID'])\n",
    "df_count['ID'] = pd.to_numeric(df_count['ID'])"
   ]
  },
  {
   "cell_type": "code",
   "execution_count": 150,
   "id": "hazardous-hydrogen",
   "metadata": {},
   "outputs": [],
   "source": [
    "df_main = pd.merge(df_main ,df_count , how='outer', on='ID')"
   ]
  },
  {
   "cell_type": "code",
   "execution_count": 151,
   "id": "wrapped-polymer",
   "metadata": {},
   "outputs": [
    {
     "data": {
      "text/html": [
       "<div>\n",
       "<style scoped>\n",
       "    .dataframe tbody tr th:only-of-type {\n",
       "        vertical-align: middle;\n",
       "    }\n",
       "\n",
       "    .dataframe tbody tr th {\n",
       "        vertical-align: top;\n",
       "    }\n",
       "\n",
       "    .dataframe thead th {\n",
       "        text-align: right;\n",
       "    }\n",
       "</style>\n",
       "<table border=\"1\" class=\"dataframe\">\n",
       "  <thead>\n",
       "    <tr style=\"text-align: right;\">\n",
       "      <th></th>\n",
       "      <th>ID</th>\n",
       "      <th>Group</th>\n",
       "      <th>Total_frames_num</th>\n",
       "      <th>Valid_frames_num</th>\n",
       "      <th>Frames_Percentage</th>\n",
       "      <th>Diff_Pitch</th>\n",
       "      <th>Diff_Roll</th>\n",
       "      <th>Diff_Yaw</th>\n",
       "      <th>Euclidean_distance_ASD_NT</th>\n",
       "      <th>Euclidean_distance_NT_NT</th>\n",
       "      <th>Anger75</th>\n",
       "      <th>Disgust75</th>\n",
       "      <th>Fear75</th>\n",
       "      <th>Sadness75</th>\n",
       "      <th>Smile75</th>\n",
       "      <th>Surprise75</th>\n",
       "      <th>Sum75</th>\n",
       "      <th>Smile_num</th>\n",
       "    </tr>\n",
       "  </thead>\n",
       "  <tbody>\n",
       "    <tr>\n",
       "      <th>0</th>\n",
       "      <td>673249918</td>\n",
       "      <td>0</td>\n",
       "      <td>85736</td>\n",
       "      <td>16471</td>\n",
       "      <td>0.192113</td>\n",
       "      <td>1.412543</td>\n",
       "      <td>1.420279</td>\n",
       "      <td>1.432545</td>\n",
       "      <td>27.920872</td>\n",
       "      <td>27.920872</td>\n",
       "      <td>0.000000</td>\n",
       "      <td>0.001336</td>\n",
       "      <td>0.000000</td>\n",
       "      <td>0.000121</td>\n",
       "      <td>0.076134</td>\n",
       "      <td>0.047295</td>\n",
       "      <td>0.124886</td>\n",
       "      <td>36.0</td>\n",
       "    </tr>\n",
       "    <tr>\n",
       "      <th>1</th>\n",
       "      <td>1021408222</td>\n",
       "      <td>0</td>\n",
       "      <td>90365</td>\n",
       "      <td>19580</td>\n",
       "      <td>0.216677</td>\n",
       "      <td>1.540340</td>\n",
       "      <td>1.761364</td>\n",
       "      <td>1.485873</td>\n",
       "      <td>46.611333</td>\n",
       "      <td>46.611333</td>\n",
       "      <td>0.001685</td>\n",
       "      <td>0.000919</td>\n",
       "      <td>0.000000</td>\n",
       "      <td>0.000000</td>\n",
       "      <td>0.089632</td>\n",
       "      <td>0.002809</td>\n",
       "      <td>0.095046</td>\n",
       "      <td>93.0</td>\n",
       "    </tr>\n",
       "    <tr>\n",
       "      <th>2</th>\n",
       "      <td>1019778562</td>\n",
       "      <td>0</td>\n",
       "      <td>111063</td>\n",
       "      <td>21325</td>\n",
       "      <td>0.192008</td>\n",
       "      <td>1.482536</td>\n",
       "      <td>1.816111</td>\n",
       "      <td>1.490298</td>\n",
       "      <td>22.355514</td>\n",
       "      <td>22.355514</td>\n",
       "      <td>0.001032</td>\n",
       "      <td>0.002626</td>\n",
       "      <td>0.000000</td>\n",
       "      <td>0.000188</td>\n",
       "      <td>0.110762</td>\n",
       "      <td>0.003189</td>\n",
       "      <td>0.117796</td>\n",
       "      <td>90.0</td>\n",
       "    </tr>\n",
       "    <tr>\n",
       "      <th>3</th>\n",
       "      <td>1021093597</td>\n",
       "      <td>0</td>\n",
       "      <td>82627</td>\n",
       "      <td>46000</td>\n",
       "      <td>0.556719</td>\n",
       "      <td>1.124373</td>\n",
       "      <td>1.295388</td>\n",
       "      <td>1.134773</td>\n",
       "      <td>21.763416</td>\n",
       "      <td>21.763416</td>\n",
       "      <td>0.000304</td>\n",
       "      <td>0.003826</td>\n",
       "      <td>0.000000</td>\n",
       "      <td>0.000000</td>\n",
       "      <td>0.127652</td>\n",
       "      <td>0.008065</td>\n",
       "      <td>0.139848</td>\n",
       "      <td>145.0</td>\n",
       "    </tr>\n",
       "    <tr>\n",
       "      <th>4</th>\n",
       "      <td>669779629</td>\n",
       "      <td>0</td>\n",
       "      <td>104995</td>\n",
       "      <td>24678</td>\n",
       "      <td>0.235040</td>\n",
       "      <td>1.338867</td>\n",
       "      <td>1.550114</td>\n",
       "      <td>1.518380</td>\n",
       "      <td>18.300407</td>\n",
       "      <td>18.300407</td>\n",
       "      <td>0.000000</td>\n",
       "      <td>0.001499</td>\n",
       "      <td>0.000932</td>\n",
       "      <td>0.000000</td>\n",
       "      <td>0.221169</td>\n",
       "      <td>0.001661</td>\n",
       "      <td>0.225261</td>\n",
       "      <td>108.0</td>\n",
       "    </tr>\n",
       "  </tbody>\n",
       "</table>\n",
       "</div>"
      ],
      "text/plain": [
       "           ID  Group  Total_frames_num  Valid_frames_num  Frames_Percentage  \\\n",
       "0   673249918      0             85736             16471           0.192113   \n",
       "1  1021408222      0             90365             19580           0.216677   \n",
       "2  1019778562      0            111063             21325           0.192008   \n",
       "3  1021093597      0             82627             46000           0.556719   \n",
       "4   669779629      0            104995             24678           0.235040   \n",
       "\n",
       "   Diff_Pitch  Diff_Roll  Diff_Yaw  Euclidean_distance_ASD_NT  \\\n",
       "0    1.412543   1.420279  1.432545                  27.920872   \n",
       "1    1.540340   1.761364  1.485873                  46.611333   \n",
       "2    1.482536   1.816111  1.490298                  22.355514   \n",
       "3    1.124373   1.295388  1.134773                  21.763416   \n",
       "4    1.338867   1.550114  1.518380                  18.300407   \n",
       "\n",
       "   Euclidean_distance_NT_NT   Anger75  Disgust75    Fear75  Sadness75  \\\n",
       "0                 27.920872  0.000000   0.001336  0.000000   0.000121   \n",
       "1                 46.611333  0.001685   0.000919  0.000000   0.000000   \n",
       "2                 22.355514  0.001032   0.002626  0.000000   0.000188   \n",
       "3                 21.763416  0.000304   0.003826  0.000000   0.000000   \n",
       "4                 18.300407  0.000000   0.001499  0.000932   0.000000   \n",
       "\n",
       "    Smile75  Surprise75     Sum75  Smile_num  \n",
       "0  0.076134    0.047295  0.124886       36.0  \n",
       "1  0.089632    0.002809  0.095046       93.0  \n",
       "2  0.110762    0.003189  0.117796       90.0  \n",
       "3  0.127652    0.008065  0.139848      145.0  \n",
       "4  0.221169    0.001661  0.225261      108.0  "
      ]
     },
     "execution_count": 151,
     "metadata": {},
     "output_type": "execute_result"
    }
   ],
   "source": [
    "df_main.head()"
   ]
  },
  {
   "cell_type": "markdown",
   "id": "characteristic-adjustment",
   "metadata": {},
   "source": [
    "### Average duration of smiles"
   ]
  },
  {
   "cell_type": "markdown",
   "id": "czech-highway",
   "metadata": {},
   "source": [
    "df_smilez.groupby('ID')"
   ]
  },
  {
   "cell_type": "code",
   "execution_count": 152,
   "id": "capable-thesis",
   "metadata": {},
   "outputs": [],
   "source": [
    "df_smilez[\"Smile_duration\"] = pd.to_numeric(df_smilez[\"Smile_duration\"])"
   ]
  },
  {
   "cell_type": "code",
   "execution_count": 153,
   "id": "sapphire-korea",
   "metadata": {},
   "outputs": [],
   "source": [
    "df_smilez_du = df_smilez[ ['ID'] + [\"Smile_duration\"]]"
   ]
  },
  {
   "cell_type": "code",
   "execution_count": 154,
   "id": "secondary-pierce",
   "metadata": {},
   "outputs": [
    {
     "data": {
      "text/plain": [
       "(4090779, 2)"
      ]
     },
     "execution_count": 154,
     "metadata": {},
     "output_type": "execute_result"
    }
   ],
   "source": [
    "df_smilez_du.shape"
   ]
  },
  {
   "cell_type": "code",
   "execution_count": 155,
   "id": "practical-democrat",
   "metadata": {},
   "outputs": [],
   "source": [
    "df_smilez_du = df_smilez_du.drop(df_smilez_du[df_smilez_du.Smile_duration == 0].index)"
   ]
  },
  {
   "cell_type": "code",
   "execution_count": 156,
   "id": "instant-arrest",
   "metadata": {},
   "outputs": [
    {
     "data": {
      "text/plain": [
       "(150584, 2)"
      ]
     },
     "execution_count": 156,
     "metadata": {},
     "output_type": "execute_result"
    }
   ],
   "source": [
    "df_smilez_du.shape"
   ]
  },
  {
   "cell_type": "code",
   "execution_count": 157,
   "id": "appreciated-hands",
   "metadata": {},
   "outputs": [],
   "source": [
    "df_du = df_smilez_du.groupby('ID').mean()"
   ]
  },
  {
   "cell_type": "code",
   "execution_count": 158,
   "id": "cheap-picnic",
   "metadata": {},
   "outputs": [],
   "source": [
    "df_du.reset_index(inplace=True)"
   ]
  },
  {
   "cell_type": "code",
   "execution_count": 159,
   "id": "dynamic-handling",
   "metadata": {},
   "outputs": [
    {
     "data": {
      "text/html": [
       "<div>\n",
       "<style scoped>\n",
       "    .dataframe tbody tr th:only-of-type {\n",
       "        vertical-align: middle;\n",
       "    }\n",
       "\n",
       "    .dataframe tbody tr th {\n",
       "        vertical-align: top;\n",
       "    }\n",
       "\n",
       "    .dataframe thead th {\n",
       "        text-align: right;\n",
       "    }\n",
       "</style>\n",
       "<table border=\"1\" class=\"dataframe\">\n",
       "  <thead>\n",
       "    <tr style=\"text-align: right;\">\n",
       "      <th></th>\n",
       "      <th>ID</th>\n",
       "      <th>Smile_duration</th>\n",
       "    </tr>\n",
       "  </thead>\n",
       "  <tbody>\n",
       "    <tr>\n",
       "      <th>0</th>\n",
       "      <td>664255171</td>\n",
       "      <td>36.251208</td>\n",
       "    </tr>\n",
       "    <tr>\n",
       "      <th>1</th>\n",
       "      <td>664308115</td>\n",
       "      <td>22.139120</td>\n",
       "    </tr>\n",
       "    <tr>\n",
       "      <th>2</th>\n",
       "      <td>666238693</td>\n",
       "      <td>41.497090</td>\n",
       "    </tr>\n",
       "    <tr>\n",
       "      <th>3</th>\n",
       "      <td>666682207</td>\n",
       "      <td>100.412670</td>\n",
       "    </tr>\n",
       "    <tr>\n",
       "      <th>4</th>\n",
       "      <td>666778936</td>\n",
       "      <td>74.397636</td>\n",
       "    </tr>\n",
       "  </tbody>\n",
       "</table>\n",
       "</div>"
      ],
      "text/plain": [
       "          ID  Smile_duration\n",
       "0  664255171       36.251208\n",
       "1  664308115       22.139120\n",
       "2  666238693       41.497090\n",
       "3  666682207      100.412670\n",
       "4  666778936       74.397636"
      ]
     },
     "execution_count": 159,
     "metadata": {},
     "output_type": "execute_result"
    }
   ],
   "source": [
    "df_du.head()"
   ]
  },
  {
   "cell_type": "markdown",
   "id": "scientific-realtor",
   "metadata": {},
   "source": [
    "Comb with results"
   ]
  },
  {
   "cell_type": "code",
   "execution_count": 160,
   "id": "centered-grave",
   "metadata": {},
   "outputs": [],
   "source": [
    "df_main['ID'] = pd.to_numeric(df_main['ID'])\n",
    "df_du['ID'] = pd.to_numeric(df_du['ID'])"
   ]
  },
  {
   "cell_type": "code",
   "execution_count": 161,
   "id": "infrared-vertical",
   "metadata": {},
   "outputs": [],
   "source": [
    "df_main = pd.merge(df_main ,df_du , how='outer', on='ID')"
   ]
  },
  {
   "cell_type": "markdown",
   "id": "moderate-stewart",
   "metadata": {},
   "source": [
    "#    "
   ]
  },
  {
   "cell_type": "markdown",
   "id": "improving-learning",
   "metadata": {},
   "source": [
    "# Flatness"
   ]
  },
  {
   "cell_type": "code",
   "execution_count": 162,
   "id": "formal-difficulty",
   "metadata": {},
   "outputs": [],
   "source": [
    "df = df_Original.copy()"
   ]
  },
  {
   "cell_type": "code",
   "execution_count": 163,
   "id": "exclusive-victorian",
   "metadata": {},
   "outputs": [],
   "source": [
    "df.fillna(0, inplace=True)"
   ]
  },
  {
   "cell_type": "code",
   "execution_count": 164,
   "id": "formed-cameroon",
   "metadata": {},
   "outputs": [],
   "source": [
    "df['row_sum'] = df['Anger'] + df['Disgust'] + df['Fear'] + df['Sadness'] + df['Smile'] +  df['Surprise']"
   ]
  },
  {
   "cell_type": "code",
   "execution_count": 165,
   "id": "favorite-catholic",
   "metadata": {},
   "outputs": [],
   "source": [
    "df_No_zeros = df.drop(df[df.row_sum < 0.000001].index) # remove zeros\n",
    "del df_No_zeros[\"row_sum\"]"
   ]
  },
  {
   "cell_type": "code",
   "execution_count": 166,
   "id": "cordless-wilson",
   "metadata": {},
   "outputs": [
    {
     "data": {
      "text/plain": [
       "2980224"
      ]
     },
     "execution_count": 166,
     "metadata": {},
     "output_type": "execute_result"
    }
   ],
   "source": [
    "#deleted lines:\n",
    "df.shape[0] - df_No_zeros.shape[0]"
   ]
  },
  {
   "cell_type": "code",
   "execution_count": 167,
   "id": "widespread-product",
   "metadata": {},
   "outputs": [],
   "source": [
    "def Bars_below(df_input, bar_input):\n",
    "\n",
    "    df_bars = df_input.copy()\n",
    "    \n",
    "    #create column names\n",
    "    Anger_Name = \"Anger\" + str(bar_input)\n",
    "    Disgust_Name = \"Disgust\" + str(bar_input)\n",
    "    Fear_Name = \"Fear\" + str(bar_input)\n",
    "    Sadness_Name = \"Sadness\" + str(bar_input)\n",
    "    Smile_Name = \"Smile\" + str(bar_input)\n",
    "    Surprise_Name = \"Surprise\" + str(bar_input)\n",
    "    Sum_Name = \"Sum\"\n",
    "    \n",
    "    #check if row meets bar\n",
    "    df_bars[Anger_Name] = np.where(df_bars.Anger < bar_input , 1, 0) \n",
    "    df_bars[Disgust_Name] = np.where(df_bars.Disgust < bar_input , 1, 0) \n",
    "    df_bars[Fear_Name] = np.where(df_bars.Fear < bar_input , 1, 0) \n",
    "    df_bars[Sadness_Name] = np.where(df_bars.Sadness < bar_input , 1, 0) \n",
    "    df_bars[Smile_Name] = np.where(df_bars.Smile < bar_input , 1, 0) \n",
    "    df_bars[Surprise_Name] = np.where(df_bars.Surprise < bar_input , 1, 0) \n",
    "    \n",
    "    #Check if one of the emotions in the frame meets bar and separate them into new df\n",
    "    df_bars[Sum_Name] = df_bars[Anger_Name] + df_bars[Disgust_Name] + df_bars[Fear_Name] + df_bars[Sadness_Name] + df_bars[Smile_Name] + df_bars[Surprise_Name]\n",
    "    df_bars1 = df_bars.loc[lambda df_bars: df_bars[Sum_Name] > 0, :]\n",
    "    #df_Output = df_bars1.groupby('ID').agg([np.sum]).iloc[:,7:15] #summerize by ID number of frames that met the bar for ID\n",
    "    \n",
    "    df_bars1 = df_bars1.drop(df_bars1[df_bars1.Sum != 6].index)\n",
    "    \n",
    "    del df_bars1[Anger_Name]\n",
    "    del df_bars1[Disgust_Name]\n",
    "    del df_bars1[Fear_Name]\n",
    "    del df_bars1[Sadness_Name]\n",
    "    del df_bars1[Smile_Name]\n",
    "    del df_bars1[Surprise_Name]\n",
    "    del df_bars1[\"Sum\"]\n",
    "    \n",
    "    return df_bars1"
   ]
  },
  {
   "cell_type": "code",
   "execution_count": 168,
   "id": "statewide-analysis",
   "metadata": {},
   "outputs": [],
   "source": [
    "# Set bar of flatness here\n",
    "bar = 10\n",
    "df_Bar_Flatt = Bars_below(df_No_zeros , bar)"
   ]
  },
  {
   "cell_type": "code",
   "execution_count": 169,
   "id": "olympic-powell",
   "metadata": {},
   "outputs": [],
   "source": [
    "df_Output_flat_Count = df_Bar_Flatt.groupby('ID').count()"
   ]
  },
  {
   "cell_type": "code",
   "execution_count": 170,
   "id": "excited-celebrity",
   "metadata": {},
   "outputs": [],
   "source": [
    "df_Output_flat_Count.reset_index(inplace=True)"
   ]
  },
  {
   "cell_type": "code",
   "execution_count": 171,
   "id": "documented-bangkok",
   "metadata": {},
   "outputs": [],
   "source": [
    "df_Output_flat_Count = df_Output_flat_Count[ [\"ID\"]+ [\"FrameIndex\"]]"
   ]
  },
  {
   "cell_type": "code",
   "execution_count": 172,
   "id": "later-melbourne",
   "metadata": {},
   "outputs": [],
   "source": [
    "del df_Bar_Flatt[\"FrameIndex\"]"
   ]
  },
  {
   "cell_type": "code",
   "execution_count": 173,
   "id": "usual-macintosh",
   "metadata": {},
   "outputs": [],
   "source": [
    "df_Output_flat = df_Bar_Flatt.groupby('ID').mean()"
   ]
  },
  {
   "cell_type": "code",
   "execution_count": 174,
   "id": "binary-placement",
   "metadata": {},
   "outputs": [],
   "source": [
    "df_Output_flat.columns = df_Output_flat.columns.get_level_values(0)"
   ]
  },
  {
   "cell_type": "code",
   "execution_count": 175,
   "id": "greatest-salem",
   "metadata": {},
   "outputs": [],
   "source": [
    "df_Output_flat.reset_index(inplace=True)"
   ]
  },
  {
   "cell_type": "code",
   "execution_count": 176,
   "id": "homeless-gateway",
   "metadata": {},
   "outputs": [],
   "source": [
    "df_main2 = pd.read_excel(diagnosis)"
   ]
  },
  {
   "cell_type": "code",
   "execution_count": 177,
   "id": "killing-feature",
   "metadata": {},
   "outputs": [],
   "source": [
    "df_main2['ID'] = pd.to_numeric(df_main2['ID'])\n",
    "df_Output_flat['ID'] = pd.to_numeric(df_Output_flat['ID'])\n",
    "df_Output_flat_Count['ID'] = pd.to_numeric(df_Output_flat_Count['ID'])"
   ]
  },
  {
   "cell_type": "code",
   "execution_count": 178,
   "id": "military-nurse",
   "metadata": {},
   "outputs": [],
   "source": [
    "df_Output_flat = pd.merge(df_Output_flat ,df_main2 , how='outer', on='ID')"
   ]
  },
  {
   "cell_type": "code",
   "execution_count": 179,
   "id": "modular-shopper",
   "metadata": {},
   "outputs": [],
   "source": [
    "df_Output_flat = pd.merge(df_Output_flat ,df_Output_flat_Count , how='outer', on='ID')"
   ]
  },
  {
   "cell_type": "code",
   "execution_count": 180,
   "id": "vocal-liabilities",
   "metadata": {},
   "outputs": [],
   "source": [
    "df_Output_flat = df_Output_flat[['ID'] +['Diagnosis'] + ['Group'] +['FrameIndex'] + ['Smile'] + ['Anger'] + ['Sadness'] + ['Disgust'] + ['Surprise'] + ['Fear'] + ['Brow Furrow'] + ['Brow Raise'] + ['Lip Corner Depressor'] + ['InnerBrowRaise'] + ['EyeClosure'] + ['NoseWrinkle'] + ['UpperLipRaise'] + ['LipSuck'] + ['LipPress'] + ['MouthOpen'] + ['ChinRaise'] + ['Smirk'] + ['LipPucker'] + ['Cheek Raise'] + ['Dimpler'] + ['Eye Widen'] + ['Lid Tighten'] + ['Lip Stretch'] + ['Jaw Drop'] + ['Pitch'] + ['Yaw'] + ['Roll']]"
   ]
  },
  {
   "cell_type": "code",
   "execution_count": 181,
   "id": "prescription-steel",
   "metadata": {},
   "outputs": [],
   "source": [
    "df_Output_flat = df_Output_flat.rename(columns={\"FrameIndex\": \"Frames under bar\"})"
   ]
  },
  {
   "cell_type": "markdown",
   "id": "encouraging-virtue",
   "metadata": {},
   "source": [
    "# Extra columns"
   ]
  },
  {
   "cell_type": "code",
   "execution_count": 182,
   "id": "considered-desktop",
   "metadata": {},
   "outputs": [],
   "source": [
    "df_main[\"Valid_frames_min\"] = df_main[\"Valid_frames_num\"]/(30*60)"
   ]
  },
  {
   "cell_type": "code",
   "execution_count": 183,
   "id": "embedded-phase",
   "metadata": {},
   "outputs": [],
   "source": [
    "df_main[\"Smile_frequency\"] = df_main[\"Smile_num\"]/df_main[\"Valid_frames_min\"]"
   ]
  },
  {
   "cell_type": "code",
   "execution_count": 184,
   "id": "authentic-planning",
   "metadata": {},
   "outputs": [
    {
     "data": {
      "text/html": [
       "<div>\n",
       "<style scoped>\n",
       "    .dataframe tbody tr th:only-of-type {\n",
       "        vertical-align: middle;\n",
       "    }\n",
       "\n",
       "    .dataframe tbody tr th {\n",
       "        vertical-align: top;\n",
       "    }\n",
       "\n",
       "    .dataframe thead th {\n",
       "        text-align: right;\n",
       "    }\n",
       "</style>\n",
       "<table border=\"1\" class=\"dataframe\">\n",
       "  <thead>\n",
       "    <tr style=\"text-align: right;\">\n",
       "      <th></th>\n",
       "      <th>ID</th>\n",
       "      <th>Group</th>\n",
       "      <th>Total_frames_num</th>\n",
       "      <th>Valid_frames_num</th>\n",
       "      <th>Frames_Percentage</th>\n",
       "      <th>Diff_Pitch</th>\n",
       "      <th>Diff_Roll</th>\n",
       "      <th>Diff_Yaw</th>\n",
       "      <th>Euclidean_distance_ASD_NT</th>\n",
       "      <th>Euclidean_distance_NT_NT</th>\n",
       "      <th>...</th>\n",
       "      <th>Disgust75</th>\n",
       "      <th>Fear75</th>\n",
       "      <th>Sadness75</th>\n",
       "      <th>Smile75</th>\n",
       "      <th>Surprise75</th>\n",
       "      <th>Sum75</th>\n",
       "      <th>Smile_num</th>\n",
       "      <th>Smile_duration</th>\n",
       "      <th>Valid_frames_min</th>\n",
       "      <th>Smile_frequency</th>\n",
       "    </tr>\n",
       "  </thead>\n",
       "  <tbody>\n",
       "    <tr>\n",
       "      <th>0</th>\n",
       "      <td>673249918</td>\n",
       "      <td>0</td>\n",
       "      <td>85736</td>\n",
       "      <td>16471</td>\n",
       "      <td>0.192113</td>\n",
       "      <td>1.412543</td>\n",
       "      <td>1.420279</td>\n",
       "      <td>1.432545</td>\n",
       "      <td>27.920872</td>\n",
       "      <td>27.920872</td>\n",
       "      <td>...</td>\n",
       "      <td>0.001336</td>\n",
       "      <td>0.000000</td>\n",
       "      <td>0.000121</td>\n",
       "      <td>0.076134</td>\n",
       "      <td>0.047295</td>\n",
       "      <td>0.124886</td>\n",
       "      <td>36.0</td>\n",
       "      <td>44.715596</td>\n",
       "      <td>9.150556</td>\n",
       "      <td>3.934187</td>\n",
       "    </tr>\n",
       "    <tr>\n",
       "      <th>1</th>\n",
       "      <td>1021408222</td>\n",
       "      <td>0</td>\n",
       "      <td>90365</td>\n",
       "      <td>19580</td>\n",
       "      <td>0.216677</td>\n",
       "      <td>1.540340</td>\n",
       "      <td>1.761364</td>\n",
       "      <td>1.485873</td>\n",
       "      <td>46.611333</td>\n",
       "      <td>46.611333</td>\n",
       "      <td>...</td>\n",
       "      <td>0.000919</td>\n",
       "      <td>0.000000</td>\n",
       "      <td>0.000000</td>\n",
       "      <td>0.089632</td>\n",
       "      <td>0.002809</td>\n",
       "      <td>0.095046</td>\n",
       "      <td>93.0</td>\n",
       "      <td>22.904528</td>\n",
       "      <td>10.877778</td>\n",
       "      <td>8.549540</td>\n",
       "    </tr>\n",
       "    <tr>\n",
       "      <th>2</th>\n",
       "      <td>1019778562</td>\n",
       "      <td>0</td>\n",
       "      <td>111063</td>\n",
       "      <td>21325</td>\n",
       "      <td>0.192008</td>\n",
       "      <td>1.482536</td>\n",
       "      <td>1.816111</td>\n",
       "      <td>1.490298</td>\n",
       "      <td>22.355514</td>\n",
       "      <td>22.355514</td>\n",
       "      <td>...</td>\n",
       "      <td>0.002626</td>\n",
       "      <td>0.000000</td>\n",
       "      <td>0.000188</td>\n",
       "      <td>0.110762</td>\n",
       "      <td>0.003189</td>\n",
       "      <td>0.117796</td>\n",
       "      <td>90.0</td>\n",
       "      <td>28.934487</td>\n",
       "      <td>11.847222</td>\n",
       "      <td>7.596717</td>\n",
       "    </tr>\n",
       "    <tr>\n",
       "      <th>3</th>\n",
       "      <td>1021093597</td>\n",
       "      <td>0</td>\n",
       "      <td>82627</td>\n",
       "      <td>46000</td>\n",
       "      <td>0.556719</td>\n",
       "      <td>1.124373</td>\n",
       "      <td>1.295388</td>\n",
       "      <td>1.134773</td>\n",
       "      <td>21.763416</td>\n",
       "      <td>21.763416</td>\n",
       "      <td>...</td>\n",
       "      <td>0.003826</td>\n",
       "      <td>0.000000</td>\n",
       "      <td>0.000000</td>\n",
       "      <td>0.127652</td>\n",
       "      <td>0.008065</td>\n",
       "      <td>0.139848</td>\n",
       "      <td>145.0</td>\n",
       "      <td>41.360360</td>\n",
       "      <td>25.555556</td>\n",
       "      <td>5.673913</td>\n",
       "    </tr>\n",
       "    <tr>\n",
       "      <th>4</th>\n",
       "      <td>669779629</td>\n",
       "      <td>0</td>\n",
       "      <td>104995</td>\n",
       "      <td>24678</td>\n",
       "      <td>0.235040</td>\n",
       "      <td>1.338867</td>\n",
       "      <td>1.550114</td>\n",
       "      <td>1.518380</td>\n",
       "      <td>18.300407</td>\n",
       "      <td>18.300407</td>\n",
       "      <td>...</td>\n",
       "      <td>0.001499</td>\n",
       "      <td>0.000932</td>\n",
       "      <td>0.000000</td>\n",
       "      <td>0.221169</td>\n",
       "      <td>0.001661</td>\n",
       "      <td>0.225261</td>\n",
       "      <td>108.0</td>\n",
       "      <td>67.052708</td>\n",
       "      <td>13.710000</td>\n",
       "      <td>7.877462</td>\n",
       "    </tr>\n",
       "  </tbody>\n",
       "</table>\n",
       "<p>5 rows × 21 columns</p>\n",
       "</div>"
      ],
      "text/plain": [
       "           ID  Group  Total_frames_num  Valid_frames_num  Frames_Percentage  \\\n",
       "0   673249918      0             85736             16471           0.192113   \n",
       "1  1021408222      0             90365             19580           0.216677   \n",
       "2  1019778562      0            111063             21325           0.192008   \n",
       "3  1021093597      0             82627             46000           0.556719   \n",
       "4   669779629      0            104995             24678           0.235040   \n",
       "\n",
       "   Diff_Pitch  Diff_Roll  Diff_Yaw  Euclidean_distance_ASD_NT  \\\n",
       "0    1.412543   1.420279  1.432545                  27.920872   \n",
       "1    1.540340   1.761364  1.485873                  46.611333   \n",
       "2    1.482536   1.816111  1.490298                  22.355514   \n",
       "3    1.124373   1.295388  1.134773                  21.763416   \n",
       "4    1.338867   1.550114  1.518380                  18.300407   \n",
       "\n",
       "   Euclidean_distance_NT_NT  ...  Disgust75    Fear75  Sadness75   Smile75  \\\n",
       "0                 27.920872  ...   0.001336  0.000000   0.000121  0.076134   \n",
       "1                 46.611333  ...   0.000919  0.000000   0.000000  0.089632   \n",
       "2                 22.355514  ...   0.002626  0.000000   0.000188  0.110762   \n",
       "3                 21.763416  ...   0.003826  0.000000   0.000000  0.127652   \n",
       "4                 18.300407  ...   0.001499  0.000932   0.000000  0.221169   \n",
       "\n",
       "   Surprise75     Sum75  Smile_num  Smile_duration  Valid_frames_min  \\\n",
       "0    0.047295  0.124886       36.0       44.715596          9.150556   \n",
       "1    0.002809  0.095046       93.0       22.904528         10.877778   \n",
       "2    0.003189  0.117796       90.0       28.934487         11.847222   \n",
       "3    0.008065  0.139848      145.0       41.360360         25.555556   \n",
       "4    0.001661  0.225261      108.0       67.052708         13.710000   \n",
       "\n",
       "   Smile_frequency  \n",
       "0         3.934187  \n",
       "1         8.549540  \n",
       "2         7.596717  \n",
       "3         5.673913  \n",
       "4         7.877462  \n",
       "\n",
       "[5 rows x 21 columns]"
      ]
     },
     "execution_count": 184,
     "metadata": {},
     "output_type": "execute_result"
    }
   ],
   "source": [
    "df_main.head()"
   ]
  },
  {
   "cell_type": "markdown",
   "id": "derived-transformation",
   "metadata": {},
   "source": [
    "# Export main file"
   ]
  },
  {
   "cell_type": "code",
   "execution_count": 185,
   "id": "packed-junior",
   "metadata": {
    "scrolled": true
   },
   "outputs": [],
   "source": [
    "with pd.ExcelWriter(Output_directory + \"//\" + 'Main.xlsx') as writer:  \n",
    "        df_main.to_excel(writer, sheet_name='Main', index=False)\n",
    "        df_Bar75.to_excel(writer, sheet_name='Bars', index=True)\n",
    "        df_Output_flat.to_excel(writer, sheet_name='Flatness', index=False)"
   ]
  }
 ],
 "metadata": {
  "kernelspec": {
   "display_name": "Python 3",
   "language": "python",
   "name": "python3"
  },
  "language_info": {
   "codemirror_mode": {
    "name": "ipython",
    "version": 3
   },
   "file_extension": ".py",
   "mimetype": "text/x-python",
   "name": "python",
   "nbconvert_exporter": "python",
   "pygments_lexer": "ipython3",
   "version": "3.8.8"
  }
 },
 "nbformat": 4,
 "nbformat_minor": 5
}
